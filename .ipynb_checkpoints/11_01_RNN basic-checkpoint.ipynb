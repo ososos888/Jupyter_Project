{
 "cells": [
  {
   "cell_type": "markdown",
   "metadata": {},
   "source": [
    "# RNN in Pytorch"
   ]
  },
  {
   "cell_type": "markdown",
   "metadata": {},
   "source": [
    "RNN을 구성하는 기본 code\n",
    "\n",
    "1. A를 선언<br>\n",
    ".# torch에 저장된 rnn 함수 사용<br>\n",
    "rnn = torch.n.RNN(input_size, hidden_size) <br><br>  \n",
    "\n",
    "\n",
    "2. data 입력 후 결과 반환 <br>\n",
    ".# 이때, input data는 3-dim의 tensor가 된다.(batch size, sequence length, input data)<br> \n",
    "outputs, _status = rnn(input_data) "
   ]
  },
  {
   "cell_type": "markdown",
   "metadata": {},
   "source": [
    "### Simple example"
   ]
  },
  {
   "cell_type": "code",
   "execution_count": 2,
   "metadata": {},
   "outputs": [],
   "source": [
    "import torch\n",
    "import numpy as np"
   ]
  },
  {
   "cell_type": "code",
   "execution_count": 4,
   "metadata": {},
   "outputs": [],
   "source": [
    "input_size = 4\n",
    "hidden_size = 2\n",
    "\n",
    "h = [1, 0, 0, 0]\n",
    "e = [0, 1, 0, 0]\n",
    "l = [0, 0, 1, 0]\n",
    "o = [0, 0, 0, 1]\n",
    "\n",
    "input_data_np = np.array([[h, e, l, l, o],\n",
    "                        [e, o, l, l, l],\n",
    "                        [l, l, e, e, l]], dtype = np.float32)\n",
    "\n",
    "# transform as torch tensor\n",
    "input_data = torch.Tensor(input_data_np)\n",
    "\n",
    "rnn = torch.nn.RNN(input_size, hidden_size)\n",
    "\n",
    "outputs, _status = rnn(input_data)"
   ]
  },
  {
   "cell_type": "code",
   "execution_count": 11,
   "metadata": {},
   "outputs": [
    {
     "name": "stdout",
     "output_type": "stream",
     "text": [
      "torch.Size([3, 5, 4]) \n",
      "\n",
      " tensor([[[ 0.0719,  0.3335],\n",
      "         [-0.6867,  0.5029],\n",
      "         [-0.3843, -0.0515],\n",
      "         [-0.3843, -0.0515],\n",
      "         [ 0.1094,  0.4743]],\n",
      "\n",
      "        [[-0.5127,  0.5892],\n",
      "         [ 0.0695,  0.8520],\n",
      "         [-0.5793,  0.1907],\n",
      "         [-0.5793,  0.1907],\n",
      "         [-0.0094,  0.1181]],\n",
      "\n",
      "        [[-0.2776,  0.5498],\n",
      "         [ 0.2288,  0.3309],\n",
      "         [-0.7777,  0.7864],\n",
      "         [-0.7777,  0.7864],\n",
      "         [-0.3163,  0.0167]]], grad_fn=<StackBackward>) \n",
      "\n",
      " torch.Size([3, 5, 2])\n"
     ]
    }
   ],
   "source": [
    "# input data = 3개의 batch, 각 문자열은 5개의 length, 한 batch의 원소는 \n",
    "# one-hot incoding에 의해 4개의 차원을 가지는 vector\n",
    "# output data =  (위와 같음, 위와 같음, 위에서 설정한 hidden size)\n",
    "print(input_data.size(),'\\n\\n',outputs,'\\n\\n',outputs.size())"
   ]
  },
  {
   "cell_type": "code",
   "execution_count": null,
   "metadata": {},
   "outputs": [],
   "source": []
  }
 ],
 "metadata": {
  "kernelspec": {
   "display_name": "Python 3",
   "language": "python",
   "name": "python3"
  },
  "language_info": {
   "codemirror_mode": {
    "name": "ipython",
    "version": 3
   },
   "file_extension": ".py",
   "mimetype": "text/x-python",
   "name": "python",
   "nbconvert_exporter": "python",
   "pygments_lexer": "ipython3",
   "version": "3.7.6"
  }
 },
 "nbformat": 4,
 "nbformat_minor": 4
}
