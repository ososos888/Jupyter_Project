{
 "cells": [
  {
   "cell_type": "code",
   "execution_count": 1,
   "metadata": {},
   "outputs": [],
   "source": [
    "import torch\n",
    "import torch.nn as nn\n",
    "import torch.optim as optim\n",
    "import numpy as np"
   ]
  },
  {
   "cell_type": "markdown",
   "metadata": {},
   "source": [
    "### Data 전처리"
   ]
  },
  {
   "cell_type": "code",
   "execution_count": 2,
   "metadata": {},
   "outputs": [],
   "source": [
    "sentence = (\"if you want to build a ship, don't drum up people together to \"\n",
    "            \"collect wood and don't assign them tasks and work, but rather \"\n",
    "            \"teach them to long for the endless immensity of the sea.\")"
   ]
  },
  {
   "cell_type": "code",
   "execution_count": 4,
   "metadata": {},
   "outputs": [],
   "source": [
    "char_set = list(set(sentence))\n",
    "char_dic = {c: i for i, c in enumerate(char_set)}"
   ]
  },
  {
   "cell_type": "code",
   "execution_count": 5,
   "metadata": {},
   "outputs": [
    {
     "name": "stdout",
     "output_type": "stream",
     "text": [
      "{'i': 0, ' ': 1, 'k': 2, 's': 3, 'b': 4, 'h': 5, 'c': 6, 'o': 7, 'u': 8, 'y': 9, 'd': 10, 'p': 11, 'f': 12, 'w': 13, \"'\": 14, 'm': 15, 'a': 16, 'n': 17, 'e': 18, 't': 19, ',': 20, 'r': 21, '.': 22, 'g': 23, 'l': 24}\n"
     ]
    }
   ],
   "source": [
    "print(char_dic)"
   ]
  },
  {
   "cell_type": "code",
   "execution_count": 6,
   "metadata": {},
   "outputs": [
    {
     "name": "stdout",
     "output_type": "stream",
     "text": [
      "25\n"
     ]
    }
   ],
   "source": [
    "dic_size = len(char_dic)\n",
    "print(dic_size)"
   ]
  },
  {
   "cell_type": "code",
   "execution_count": 17,
   "metadata": {},
   "outputs": [],
   "source": [
    "# set Hyperparamete\n",
    "hidden_size = dic_size\n",
    "sequence_length = 10 # 임의의 num\n",
    "learning_rate = 0.1"
   ]
  },
  {
   "cell_type": "code",
   "execution_count": 8,
   "metadata": {},
   "outputs": [
    {
     "name": "stdout",
     "output_type": "stream",
     "text": [
      "0 if you wan -> f you want\n",
      "1 f you want ->  you want \n",
      "2  you want  -> you want t\n",
      "3 you want t -> ou want to\n",
      "4 ou want to -> u want to \n",
      "5 u want to  ->  want to b\n",
      "6  want to b -> want to bu\n",
      "7 want to bu -> ant to bui\n",
      "8 ant to bui -> nt to buil\n",
      "9 nt to buil -> t to build\n",
      "10 t to build ->  to build \n",
      "11  to build  -> to build a\n",
      "12 to build a -> o build a \n",
      "13 o build a  ->  build a s\n",
      "14  build a s -> build a sh\n",
      "15 build a sh -> uild a shi\n",
      "16 uild a shi -> ild a ship\n",
      "17 ild a ship -> ld a ship,\n",
      "18 ld a ship, -> d a ship, \n",
      "19 d a ship,  ->  a ship, d\n",
      "20  a ship, d -> a ship, do\n",
      "21 a ship, do ->  ship, don\n",
      "22  ship, don -> ship, don'\n",
      "23 ship, don' -> hip, don't\n",
      "24 hip, don't -> ip, don't \n",
      "25 ip, don't  -> p, don't d\n",
      "26 p, don't d -> , don't dr\n",
      "27 , don't dr ->  don't dru\n",
      "28  don't dru -> don't drum\n",
      "29 don't drum -> on't drum \n",
      "30 on't drum  -> n't drum u\n",
      "31 n't drum u -> 't drum up\n",
      "32 't drum up -> t drum up \n",
      "33 t drum up  ->  drum up p\n",
      "34  drum up p -> drum up pe\n",
      "35 drum up pe -> rum up peo\n",
      "36 rum up peo -> um up peop\n",
      "37 um up peop -> m up peopl\n",
      "38 m up peopl ->  up people\n",
      "39  up people -> up people \n",
      "40 up people  -> p people t\n",
      "41 p people t ->  people to\n",
      "42  people to -> people tog\n",
      "43 people tog -> eople toge\n",
      "44 eople toge -> ople toget\n",
      "45 ople toget -> ple togeth\n",
      "46 ple togeth -> le togethe\n",
      "47 le togethe -> e together\n",
      "48 e together ->  together \n",
      "49  together  -> together t\n",
      "50 together t -> ogether to\n",
      "51 ogether to -> gether to \n",
      "52 gether to  -> ether to c\n",
      "53 ether to c -> ther to co\n",
      "54 ther to co -> her to col\n",
      "55 her to col -> er to coll\n",
      "56 er to coll -> r to colle\n",
      "57 r to colle ->  to collec\n",
      "58  to collec -> to collect\n",
      "59 to collect -> o collect \n",
      "60 o collect  ->  collect w\n",
      "61  collect w -> collect wo\n",
      "62 collect wo -> ollect woo\n",
      "63 ollect woo -> llect wood\n",
      "64 llect wood -> lect wood \n",
      "65 lect wood  -> ect wood a\n",
      "66 ect wood a -> ct wood an\n",
      "67 ct wood an -> t wood and\n",
      "68 t wood and ->  wood and \n",
      "69  wood and  -> wood and d\n",
      "70 wood and d -> ood and do\n",
      "71 ood and do -> od and don\n",
      "72 od and don -> d and don'\n",
      "73 d and don' ->  and don't\n",
      "74  and don't -> and don't \n",
      "75 and don't  -> nd don't a\n",
      "76 nd don't a -> d don't as\n",
      "77 d don't as ->  don't ass\n",
      "78  don't ass -> don't assi\n",
      "79 don't assi -> on't assig\n",
      "80 on't assig -> n't assign\n",
      "81 n't assign -> 't assign \n",
      "82 't assign  -> t assign t\n",
      "83 t assign t ->  assign th\n",
      "84  assign th -> assign the\n",
      "85 assign the -> ssign them\n",
      "86 ssign them -> sign them \n",
      "87 sign them  -> ign them t\n",
      "88 ign them t -> gn them ta\n",
      "89 gn them ta -> n them tas\n",
      "90 n them tas ->  them task\n",
      "91  them task -> them tasks\n",
      "92 them tasks -> hem tasks \n",
      "93 hem tasks  -> em tasks a\n",
      "94 em tasks a -> m tasks an\n",
      "95 m tasks an ->  tasks and\n",
      "96  tasks and -> tasks and \n",
      "97 tasks and  -> asks and w\n",
      "98 asks and w -> sks and wo\n",
      "99 sks and wo -> ks and wor\n",
      "100 ks and wor -> s and work\n",
      "101 s and work ->  and work,\n",
      "102  and work, -> and work, \n",
      "103 and work,  -> nd work, b\n",
      "104 nd work, b -> d work, bu\n",
      "105 d work, bu ->  work, but\n",
      "106  work, but -> work, but \n",
      "107 work, but  -> ork, but r\n",
      "108 ork, but r -> rk, but ra\n",
      "109 rk, but ra -> k, but rat\n",
      "110 k, but rat -> , but rath\n",
      "111 , but rath ->  but rathe\n",
      "112  but rathe -> but rather\n",
      "113 but rather -> ut rather \n",
      "114 ut rather  -> t rather t\n",
      "115 t rather t ->  rather te\n",
      "116  rather te -> rather tea\n",
      "117 rather tea -> ather teac\n",
      "118 ather teac -> ther teach\n",
      "119 ther teach -> her teach \n",
      "120 her teach  -> er teach t\n",
      "121 er teach t -> r teach th\n",
      "122 r teach th ->  teach the\n",
      "123  teach the -> teach them\n",
      "124 teach them -> each them \n",
      "125 each them  -> ach them t\n",
      "126 ach them t -> ch them to\n",
      "127 ch them to -> h them to \n",
      "128 h them to  ->  them to l\n",
      "129  them to l -> them to lo\n",
      "130 them to lo -> hem to lon\n",
      "131 hem to lon -> em to long\n",
      "132 em to long -> m to long \n",
      "133 m to long  ->  to long f\n",
      "134  to long f -> to long fo\n",
      "135 to long fo -> o long for\n",
      "136 o long for ->  long for \n",
      "137  long for  -> long for t\n",
      "138 long for t -> ong for th\n",
      "139 ong for th -> ng for the\n",
      "140 ng for the -> g for the \n",
      "141 g for the  ->  for the e\n",
      "142  for the e -> for the en\n",
      "143 for the en -> or the end\n",
      "144 or the end -> r the endl\n",
      "145 r the endl ->  the endle\n",
      "146  the endle -> the endles\n",
      "147 the endles -> he endless\n",
      "148 he endless -> e endless \n",
      "149 e endless  ->  endless i\n",
      "150  endless i -> endless im\n",
      "151 endless im -> ndless imm\n",
      "152 ndless imm -> dless imme\n",
      "153 dless imme -> less immen\n",
      "154 less immen -> ess immens\n",
      "155 ess immens -> ss immensi\n",
      "156 ss immensi -> s immensit\n",
      "157 s immensit ->  immensity\n",
      "158  immensity -> immensity \n",
      "159 immensity  -> mmensity o\n",
      "160 mmensity o -> mensity of\n",
      "161 mensity of -> ensity of \n",
      "162 ensity of  -> nsity of t\n",
      "163 nsity of t -> sity of th\n",
      "164 sity of th -> ity of the\n",
      "165 ity of the -> ty of the \n",
      "166 ty of the  -> y of the s\n",
      "167 y of the s ->  of the se\n",
      "168  of the se -> of the sea\n",
      "169 of the sea -> f the sea.\n"
     ]
    }
   ],
   "source": [
    "# 임의로 정한 sequence_length 단위로 sample들을 잘라서 data를 만든다\n",
    "x_data = []\n",
    "y_data = []\n",
    "\n",
    "for i in range(0, len(sentence) - sequence_length):\n",
    "    x_str = sentence[i:i + sequence_length] # sequence_length 만큼 cut\n",
    "    y_str = sentence[i + 1: i + sequence_length + 1] # x에서 1만큼 shift\n",
    "    print(i, x_str, '->', y_str)\n",
    "    \n",
    "    x_data.append([char_dic[c] for c in x_str])  # x str to index\n",
    "    y_data.append([char_dic[c] for c in y_str])  # y str to index"
   ]
  },
  {
   "cell_type": "code",
   "execution_count": 9,
   "metadata": {},
   "outputs": [
    {
     "name": "stdout",
     "output_type": "stream",
     "text": [
      "[0, 12, 1, 9, 7, 8, 1, 13, 16, 17]\n",
      "[12, 1, 9, 7, 8, 1, 13, 16, 17, 19]\n"
     ]
    }
   ],
   "source": [
    "print(x_data[0])\n",
    "print(y_data[0])"
   ]
  },
  {
   "cell_type": "code",
   "execution_count": 10,
   "metadata": {},
   "outputs": [],
   "source": [
    "x_one_hot = [np.eye(dic_size)[x] for x in x_data] # x 데이터는 원-핫 인코딩\n",
    "X = torch.FloatTensor(x_one_hot)\n",
    "Y = torch.LongTensor(y_data)"
   ]
  },
  {
   "cell_type": "code",
   "execution_count": 11,
   "metadata": {},
   "outputs": [
    {
     "name": "stdout",
     "output_type": "stream",
     "text": [
      "훈련 데이터의 크기 : torch.Size([170, 10, 25])\n",
      "레이블의 크기 : torch.Size([170, 10])\n"
     ]
    }
   ],
   "source": [
    "print('훈련 데이터의 크기 : {}'.format(X.shape))\n",
    "print('레이블의 크기 : {}'.format(Y.shape))"
   ]
  },
  {
   "cell_type": "code",
   "execution_count": 12,
   "metadata": {},
   "outputs": [
    {
     "name": "stdout",
     "output_type": "stream",
     "text": [
      "tensor([[1., 0., 0., 0., 0., 0., 0., 0., 0., 0., 0., 0., 0., 0., 0., 0., 0., 0.,\n",
      "         0., 0., 0., 0., 0., 0., 0.],\n",
      "        [0., 0., 0., 0., 0., 0., 0., 0., 0., 0., 0., 0., 1., 0., 0., 0., 0., 0.,\n",
      "         0., 0., 0., 0., 0., 0., 0.],\n",
      "        [0., 1., 0., 0., 0., 0., 0., 0., 0., 0., 0., 0., 0., 0., 0., 0., 0., 0.,\n",
      "         0., 0., 0., 0., 0., 0., 0.],\n",
      "        [0., 0., 0., 0., 0., 0., 0., 0., 0., 1., 0., 0., 0., 0., 0., 0., 0., 0.,\n",
      "         0., 0., 0., 0., 0., 0., 0.],\n",
      "        [0., 0., 0., 0., 0., 0., 0., 1., 0., 0., 0., 0., 0., 0., 0., 0., 0., 0.,\n",
      "         0., 0., 0., 0., 0., 0., 0.],\n",
      "        [0., 0., 0., 0., 0., 0., 0., 0., 1., 0., 0., 0., 0., 0., 0., 0., 0., 0.,\n",
      "         0., 0., 0., 0., 0., 0., 0.],\n",
      "        [0., 1., 0., 0., 0., 0., 0., 0., 0., 0., 0., 0., 0., 0., 0., 0., 0., 0.,\n",
      "         0., 0., 0., 0., 0., 0., 0.],\n",
      "        [0., 0., 0., 0., 0., 0., 0., 0., 0., 0., 0., 0., 0., 1., 0., 0., 0., 0.,\n",
      "         0., 0., 0., 0., 0., 0., 0.],\n",
      "        [0., 0., 0., 0., 0., 0., 0., 0., 0., 0., 0., 0., 0., 0., 0., 0., 1., 0.,\n",
      "         0., 0., 0., 0., 0., 0., 0.],\n",
      "        [0., 0., 0., 0., 0., 0., 0., 0., 0., 0., 0., 0., 0., 0., 0., 0., 0., 1.,\n",
      "         0., 0., 0., 0., 0., 0., 0.]])\n"
     ]
    }
   ],
   "source": [
    "print(X[0])"
   ]
  },
  {
   "cell_type": "markdown",
   "metadata": {},
   "source": [
    "### Model 구현하기"
   ]
  },
  {
   "cell_type": "code",
   "execution_count": 13,
   "metadata": {},
   "outputs": [],
   "source": [
    "class Net(nn.Module):\n",
    "    def __init__(self, input_dim, hidden_dim, layers):\n",
    "        super(Net, self).__init__()\n",
    "        self.rnn = nn.RNN(input_dim, hidden_dim, num_layers = layers, batch_first = True)\n",
    "        self.fc = nn.Linear(hidden_dim, hidden_dim, bias = True)\n",
    "        \n",
    "    def forward(self, x):\n",
    "        x, _status = self.rnn(x)\n",
    "        x = self.fc(x)\n",
    "        return x"
   ]
  },
  {
   "cell_type": "code",
   "execution_count": 14,
   "metadata": {},
   "outputs": [],
   "source": [
    "# 2개의 층 쌓기\n",
    "net = Net(dic_size, hidden_size, 2)"
   ]
  },
  {
   "cell_type": "code",
   "execution_count": 18,
   "metadata": {},
   "outputs": [],
   "source": [
    "criterion = nn.CrossEntropyLoss()\n",
    "optimizer = optim.Adam(net.parameters(), learning_rate)"
   ]
  },
  {
   "cell_type": "code",
   "execution_count": 19,
   "metadata": {},
   "outputs": [
    {
     "name": "stdout",
     "output_type": "stream",
     "text": [
      "torch.Size([170, 10, 25])\n"
     ]
    }
   ],
   "source": [
    "outputs = net(X)\n",
    "print(outputs.shape) # 3차원 Tensor"
   ]
  },
  {
   "cell_type": "code",
   "execution_count": 20,
   "metadata": {},
   "outputs": [
    {
     "name": "stdout",
     "output_type": "stream",
     "text": [
      "torch.Size([1700, 25])\n"
     ]
    }
   ],
   "source": [
    "print(outputs.view(-1, dic_size).shape) # 2차원 Tensor로 전환"
   ]
  },
  {
   "cell_type": "code",
   "execution_count": 21,
   "metadata": {},
   "outputs": [
    {
     "name": "stdout",
     "output_type": "stream",
     "text": [
      "torch.Size([170, 10])\n",
      "torch.Size([1700])\n"
     ]
    }
   ],
   "source": [
    "print(Y.shape)\n",
    "print(Y.view(-1).shape)"
   ]
  },
  {
   "cell_type": "code",
   "execution_count": 22,
   "metadata": {},
   "outputs": [
    {
     "name": "stdout",
     "output_type": "stream",
     "text": [
      "smimmmiiiiiiiiimiiiiimiaiiiiimiiiiiiimiimiiiiiiiaiiiimiiiiiiiiiiiiiiiiiiimimiiimiiiiiiiiiiiiiiiiiiiiimimiiiiiiiiiiiiiimiiiiiiiiiiiiiiiiiiiiiiiiiiiiiiiiiiiimiiiiiimiiiiaimiiiiiiiii\n",
      "                                                                                                                                                                                   \n",
      "eoeoeeooeo eo to oo to  oeo oeet  to o eo to ooeooo oo eo to to to o eo oeeo  oe o  to  oe o  t eo oo to  eo oo to  oeeo oeto eo to o eo eo to o  t  teeo eo oeoooo oo  t  to t  oe\n",
      "w. t..  ..sw.stws w. t. ..h w.s .sw.st..s  ,. w.st.s.s  .. w..syw,s w..  ..s  .. t.s ws ,. t.st....s...ts ,.  ,s w. w.s w.s t..h .. t.ft....sw. .... w.s w.sp ..  .. w.st.st.st.s .\n",
      "nntn wh nssnn  stn  ns n  h s nd th ws  h whtn wh n nn    hs ss n th bh s ts     n  hnn t  s  h th t  hns    nn nn hn sn h ts ns n ts wh nh n th th  h  h nh s hn n    hssth td th \n",
      "nun  to nu l  nn  n lulo tu bo no    nululnoln n to ln  h oulth o tm b ln tn  b lnn  nn nn tmlnuloln lulu tol silult ln lnilulno tulnbtulno sbl  lnulo nblnnl lu ln l   oolmh ounul\n",
      "n o h t dft d   f       t f t   t   f  t    ft  f         f       tf   fft  f   f t   m t               f t f t d d t a        t t     ff o t     t   tf   f    f af    fo         \n",
      "t t t t t t  ott  t o t t o t   t  tt  t  t   t  t   t  t    tt  tth   o tt      tt  tt t   t  tt         t   t r t b t      t h t   t  t o     t t  tto tt t t t t  t   o    tt  t\n",
      "t totltott no tth t totoe ootoott eo t to t ott  to tth t noot  rott nooo   ooto tt not bo to t no t   oootoott bot b to t noott to t nootoot nao to too t ot boo to lo tooto to  t\n",
      "touood oeo doe'olio tooodth toott do t toet dod dtoeroono tootoec d  doot t o toet  doolbodt eo tont l oootooto bot botoet t oto coet tootodt loosth o t  edt boeooos o tootodt   t\n",
      "toeood oeo doe'osio tod lro toe't do t toecedododt er h t t ecoer dh toeo too toet  dos b dcoer thdt i oo to 'o bot aoto t t dpo toer thecodr do 'toeoet  edo boeorti o todt er t l\n",
      "toemrd oem ao 'os h tpt iro ar ro to m th tecp edth r h r th co g th ao r tps aoe'  arsile ther thdo iare to 'oitrt aoth r thrrh to r th coe' do goher t  erp wo  r iwh to them i t\n",
      "tm mp whnt to cos h tpt iau tu  h to h th totp tuth e h t thrch e th au   wps wonth tpii e th m thup ieut tu to aut tuth r thrth to m th co ' woriwhersh  autiwat  tiwh to themth t\n",
      "tm mn wunt to tos m tpth au tu sh to t th totp e th l h t th ch l th amn  was wo st tnsile th t th pi wut wmn o aut anth m th th th t th to ' won wh msut eutiwat to wh to thett i \n",
      "th sn wont to tos m tnth ah wnnst to t to teut e th enh t th the  to aon  wnu to st tns wo thet th ps wns won t aut anth m th th thet th to l won th nsnd e t wat toiwm to thet  w \n",
      "th nn tont ao toi m tnth no wonst toet toetemt e thee h n thedhe  to aon  wns ton't tns io then thnsi wos won't tni anth m th th then to toel won thensmd e tiwnt t,iwm to thensiat\n",
      "thennitont ao boi m tnth ao aonbt aoes toem ns e theeth m t eboel no aon  ans ton'thans ioethen tonsi wos wonbt bni antoem t  th toen to boel won thensms e t woo ts wh tsithensian\n",
      "to onitoct ao boi y tntoeao donlt aoek to mens e toeetoem t  boel no done ans ton't ans io toen te ts ans tonct bmi antoem t  th toen to bo l aor toensns e t aos nsiwy t, toems an\n",
      "toaosltoct ao coi y rnt ia, bon't aosk to mers e toeet em t  boel ct aore ans don't ans io toem te ts and do ct bmi antoer t  co toen te bo l dor toemsns e t ims csiwy tn toems at\n",
      "toamsltoct do coily rnt ip, don't aonk to teosie theether t  boelect aort ard don't ant io toem teats and do ct bmt a ther t ath them te bo l ior themsnsie t ias rsiwy tn toemshdc\n",
      "thamsltoct do coily drt ip, dod't doam to mersle theether th boelect aort ard don't drt io them thsts dod do ct bmt anther thach them th co ' dor themsns e s imd nsiiy tu themsods\n",
      "thamrltocd ao cmily drt ip, dor't aonm to ters e theether th coelect aord ard dod't aus go them thsts drd dorct bmt rnther th ch ther th co l aor themsnd e s imd ssiiy tu thersods\n",
      "thaorltoud ao cutld drt ip, don't aoum to tenp e th ether th coelech word ard don't ausiw, them thsps dod do ', b t anther th ch ther th co ' wor themsnd e k iao ssiiy tu thers d \n",
      "thaorltond ao cuild wrthip, don't donm to tenp e theether th co lech wond and won't dnsiwo toem tosts aod won', b t anther thnch them th conl wor themsnd e s im  nsiiy rn thems a \n",
      "toaonltond to buile a thep, don't aonm to tenp e th ether th bo lent wond and won't ansiwo toem tosts aod won', but anther thnch them to bonl wou themsnd e s gm emsiwo tf themseas\n",
      "coannltont to buile a thip, don't aonm to temple th ether th bo lent wond and won't dnsiga toem tosps and wonk, but rnther thnch them to bong wou themsnd e s gnsensiwo uf themseas\n",
      "coanulwont to buile a thip, don't donm tpspespie theether th bo lent aond and won't dnsiga them tosps and work, but rnther thach them to bong aor themsnd e s in ensiwy uf thems au\n",
      "chanu wanm ao build a thip, don't donm cp pemple toeether to co lect aord and won't dnsiga the  tosks and work, but rather thach the  to cong aor the snd e s in ensity uf the seaf\n",
      "chanu wart to build a thip, don't d um tp perple to ether to co lect aord and don't dnsign the  torks dnd dork, but rather th ch the  to cong aor the sndle s inmensity uf the seak\n",
      "chanr wonm to build a thip, don't doum tp pemple to ether th co lect aord and don't dmsign them tosks and dork, but rather thach them to cong aor themsndle s inmensity pf the seas\n",
      "thanr wont to build a thip, don't donm tp perple to ether th bo lect aord and don't dmsign ther tosks and work, but rnther thach them to bon' aor themsndle s inmensity rf themseac\n",
      "thanu tont to build a thip, don't doum tp perple together te conlect aord wnd don't dmsign them tosks and work, but rnther te ch them to con' aor toemsndle s inmensity rf themseac\n",
      "thtnr want to butld a thip, don't drum tp perple thgether te bo lect wood wnd won't dmtign them tosks and work, but rather te ch the  to bon' wor the sndle siimeensity rf the s ac\n",
      "toanu wont to build a thip, don't drum tp perple together th co lect wood and won't dmsign them tosks and work, but rather thach the  to cong aor the sndle s immensity rf the sea \n",
      "totnu wont to build a thip, don't drum tp people together te co lect wood and won't dssign them tosks and wook, dut rather teach the  to bong aor themendless immensity pf the eeac\n",
      "totou wont to build a thip, don't drum tp people together te bo lect wood and don't dssign them toaks and wook, dut rather teach them te bong for thersndless immensity re therseac\n",
      "totnu wont to build a ship, don't drum up people together te conlect wood and don't dssign them tosks and dook, but rather teach them to long aor themsndless immensity of themseac\n",
      "totnu want to build a ship, bon't arum up people together to co lect wood and don't assign the  tosks and work, but rather teach the  to lon' aor the endless emmensity rf the eeac\n",
      "totor want to build a ship, bon't arum up people to ether th co lect wood and don't assign them tasks and dork, but rather thach the  ta bon' for the endless immensity rf the eeac\n",
      "totor want to build a ship, don't arum up people together te conlect wood and don't assign the  tosks and dork, but rather teach the  to cong for the endless emmensity of the eeac\n",
      "totor want to luild a ship, don't arum up people together te conlect wood and don't assign the  tosks and dork, but rather teach the  to long for the endless immensity of the eeac\n",
      "totor wont to build a ship, don't arum up people together to co lect wood and don't assign them tasks and dork, but rather toach them ta bong for the endless immensity of themeeag\n",
      "totor want to build a ship, don't drum up people together to co lect wood and don't dssign them tosks and dork, but rather toach them to bong for themendless immensity of themeeac\n",
      "totor want to build a ship, don't drum up people together to conlect wood and don't dssign them tosks and dork, but rather teach them to bon' for themendless immensity of themeeac\n",
      "totor want to build a ship, don't drum up people together to collect wood and don't dssign them tasks and dork, but rather teach them ta bong for themendless immensity of themeeal\n",
      "tydor want to build a ship, don't drum up people together to co lect wood and won't dssign them tasks and work, but rather teach them ta long for themendless immensity of themeeag\n"
     ]
    },
    {
     "name": "stdout",
     "output_type": "stream",
     "text": [
      "totor want to luild a ship, don't drum up people together to collect wood and won't dssign them tosks and work, but rather teach the  to long for the endless immensity of themeeac\n",
      "totor want to luild a ship, don't arum up people together to collect wood and won't assign them tasks and work, but rather teach the  ta long for the endless immensity of the eeac\n",
      "totor want to build a ship, don't arum up people together to collect wood and don't assign them tasks and work, but rather teach the  ta long for the endless immensity of the eeac\n",
      "totor want to build a ship, don't arum up people together to collect wood and don't assign them tasks and dork, but rather teach them to bong for the endless immensity of the eeac\n",
      "totor want to build a ship, don't arum up people together to collect wood and don't assign them tosks and work, but rather teach them to bong for the endless immensity of themeeac\n",
      "totor want to build a ship, don't arum up people together to collect wood and don't assign them tasks and work, but rather teach them ta long for the endless immensity of themeeac\n",
      "totor want to build a ship, don't arum up people together to lollect wood and won't assign them tasks and work, but rather teach them to long for themendless immensity of themeeal\n",
      "totor want to luild a ship, don't drum up people together te conlect wood and don't assign them tasks and dork, but rather teach the  ta long for the endless immensity of the seac\n",
      "totou want to build a ship, don't drum up people together to lollect wood and won't assign them tosks and work, but rather toach them to bong for the endless immensity of the eeac\n",
      "totou want to build a ship, don't drum up people together to collect wood and don't assign them tasks and dork, but rather teach them ta bong for the endless immensity of the eeac\n",
      "potou want to build a ship, don't drum up people together te collect wood and don't assign them tasks and dork, but rather teach the  ta bong for the endless immensity of the eeac\n",
      "potou want to build a ship, don't drum up people together te collect wood and don't assign them tosks and work, but rather teach them to bong for the endless immensity of the seac\n",
      "potou want to build a ship, don't drum up people together to collect wood and won't assign them tasks and work, but rather toach them to bong for themendless immensity of themeeag\n",
      "potou want to luild a ship, don't arum up people together te collect wood and wongt assign them tosks and work, but rather teach the  to long for the endless immensity of the eeac\n",
      "poyou want to build a ship, don't drum up people together te collect wood and don't assign them tasks and dork, but rather teach the  ta long for the sndless immensity of the seac\n",
      "poyou want to build a ship, don't drum up people together te collect wood and don't dssign them tasks and work, but rather teach ther ta bong for the sndless immensity of the seac\n",
      "porou want to build a ship, don't drum up people together te collect wood and aon't dssign them tosks and aork, but rather teach the  to long for the endless immensity of the eeac\n",
      "podou want to build a ship, don't drum up people together te collect wood and don't dssign them tosks and dork, but rather teach them to long for the endless immensity of the eea.\n",
      "podou want to build a ship, don't drum up people together te collect wood and don't dssign them tasks and work, but rather teach them ta bong for the endless immensity of the eea.\n",
      "potou want to build a ship, don't arum up people together te collect wood and don't assign them tosks and dork, but rather teach them to long for the endless immensity of the eeal\n",
      "poyou want to luild a ship, don't arum up people together to collect wood and don't assign them tosks and work, but rather toach them to long for the endless immensity of the eeal\n",
      "t you want to luild a ship, don't arum up people together te collect wood and don't assign them tasks and dork, but rather teach them ta long for the endless immensity of the eeac\n",
      "t you want to build a ship, don't arum up people together te collect wood and don't assign them tasks and work, but rather teach them ta long for the endless immensity of the eea.\n",
      "t you want to build a ship, don't arum up people together te collect wood and don't assign them tosks and work, but rather teach them to bong for the endless immensity of the eea.\n",
      "p you want to build a ship, don't drum up people together te collect wood and don't assign them tosks and work, but rather teach them to long for the endless immensity of the eea.\n",
      "p you want to build a ship, don't drum up people together te collect wood and don't dssign them tasks and work, but rather teach them to long for the endless immensity of the eea.\n",
      "p you want to build a ship, don't drum up people together te collect wood and don't dssign them tasks and work, but rather teach them ta long for the endless immensity of themeea.\n",
      "p you want to build a ship, don't drum up people together te collect wood and don't assign them tasks and work, but rather teach them ta long for the endless immensity of the eea.\n",
      "p you want to build a ship, don't arum up people together to collect wood and don't assign them tosks and work, but rather teach them to long for the endless immensity of the eea.\n",
      "p you want to build a ship, don't drum up people together te collect wood and don't dssign them tosks and work, but rather teach them to long for the endless immensity of the eea.\n",
      "p you want to build a ship, don't drum up people together to collect wood and don't dssign them tosks and work, but rather teach them to long for the endless immensity of the eea.\n",
      "p you want to build a ship, don't drum up people together to collect wood and don't assign them tasks and work, but rather teach them to long for the endless immensity of the eea.\n",
      "p you want to build a ship, don't drum up people together to collect wood and don't assign them tasks and work, but rather teach them to long for the endless immensity of the eea.\n",
      "p you want to build a ship, don't drum up people together to lollect wood and don't assign them tosks and work, but rather toach them to long for the endless immensity of the eea.\n",
      "p you want to build a ship, don't drum up people together te collect wood and don't dssign them tasks and work, but rather teach them ta cong for the endless immensity of the eea.\n",
      "p you want to build a ship, don't drum up people together to collect wood and don't assign them tasks and work, but rather toach them ta long for therendless immensity of the sea.\n",
      "p you want to build a ship, don't drum up people together te collect wood wnd don't assign them tosks and work, but rather teach them to long for the endless immensity of the eea.\n",
      "p you want to build a ship, don't drum up people together te collect wood and don't assign them tasks and work, but rather teach them ta long for the endless immensity of the eea.\n",
      "p you want to build a ship, don't drum up people together to collect wood and don't assign them tasks and aork, but rather teach them ta bong for the endless immensity of the sea.\n",
      "t you want to build a ship, don't drum up people together to collect wood and don't assign them tasks and work, but rather toach them to long for the endless immensity of the eea.\n",
      "p you want to luild a ship, don't drum up people together to collect wood and don't dssign them tosks and work, but rather teach them to long for the sndless immensity of the sea.\n",
      "p you want to build a ship, don't drum up people together te collect wood and don't assign them tosks and work, but rather teach them to long for the sndless immensity of the sea.\n",
      "p you want to build a ship, don't drum up people together to collect wood and don't assign them tasks and work, but rather teach them to long for the endless immensity of the sea.\n",
      "p you want to build a ship, don't drum up people together to collect wood and don't assign them tasks and work, but rather teach them ta long for the endless immensity of the sea.\n",
      "p you want to build a ship, don't drum up people together to collect wood and don't assign them tasks and work, but rather teach them ta long for the endless immensity of the sea.\n",
      "p you want to build a ship, don't drum up people together to collect wood and don't assign them tasks and work, but rather teach them to long for the endless immensity of the sea.\n",
      "t you want to build a ship, don't drum up people together te collect wood and don't assign them tosks and work, but rather teach them to long for the endless immensity of the sea.\n",
      "t you want to build a ship, don't drum up people together te collect wood and don't assign them tasks and work, but rather teach them to long for the endless immensity of the sea.\n",
      "t you want to build a ship, don't drum up people together to collect wood and don't assign them tasks and work, but rather teach them to long for the endless immensity of the sea.\n"
     ]
    },
    {
     "name": "stdout",
     "output_type": "stream",
     "text": [
      "p you want to build a ship, don't drum up people together to collect wood and don't assign them tasks and work, but rather teach them to long for the endless immensity of the sea.\n",
      "p you want to build a ship, don't drum up people together to collect wood and don't assign them tasks and work, but rather teach them to long for the endless immensity of the sea.\n",
      "p you want to build a ship, don't drum up people together to collect wood and don't assign them tasks and work, but rather teach them to long for the endless immensity of the sea.\n",
      "m you want to build a ship, don't drum up people together to collect wood and don't dssign them tasks and work, but rather teach them to long for the endless immensity of the sea.\n",
      "l you want to build a ship, don't drum up people together to collect wood and don't assign them tasks and work, but rather teach them to long for the endless immensity of the sea.\n"
     ]
    }
   ],
   "source": [
    "for i in range(100):\n",
    "    optimizer.zero_grad()\n",
    "    outputs = net(X) # (170, 10, 25) 크기를 가진 텐서를 매 에포크마다 모델의 입력으로 사용\n",
    "    loss = criterion(outputs.view(-1, dic_size), Y.view(-1))\n",
    "    loss.backward()\n",
    "    optimizer.step()\n",
    "\n",
    "    # results의 텐서 크기는 (170, 10)\n",
    "    results = outputs.argmax(dim=2)\n",
    "    predict_str = \"\"\n",
    "    for j, result in enumerate(results):\n",
    "        if j == 0: # 처음에는 예측 결과를 전부 가져오지만\n",
    "            predict_str += ''.join([char_set[t] for t in result])\n",
    "        else: # 그 다음에는 마지막 글자만 반복 추가\n",
    "            predict_str += char_set[result[-1]]\n",
    "\n",
    "    print(predict_str)"
   ]
  },
  {
   "cell_type": "code",
   "execution_count": null,
   "metadata": {},
   "outputs": [],
   "source": []
  }
 ],
 "metadata": {
  "kernelspec": {
   "display_name": "Python 3",
   "language": "python",
   "name": "python3"
  },
  "language_info": {
   "codemirror_mode": {
    "name": "ipython",
    "version": 3
   },
   "file_extension": ".py",
   "mimetype": "text/x-python",
   "name": "python",
   "nbconvert_exporter": "python",
   "pygments_lexer": "ipython3",
   "version": "3.7.6"
  }
 },
 "nbformat": 4,
 "nbformat_minor": 4
}
