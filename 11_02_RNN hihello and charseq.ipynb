{
 "cells": [
  {
   "cell_type": "markdown",
   "metadata": {},
   "source": [
    "# 'hihello' problem"
   ]
  },
  {
   "cell_type": "markdown",
   "metadata": {},
   "source": [
    "#### hihello 문자열을 예측해보자 <br><br>\n",
    "\n",
    "one-hot encoding 사용"
   ]
  },
  {
   "cell_type": "code",
   "execution_count": 4,
   "metadata": {},
   "outputs": [],
   "source": [
    "import torch\n",
    "import torch.optim as optim\n",
    "import numpy as np"
   ]
  },
  {
   "cell_type": "code",
   "execution_count": 5,
   "metadata": {},
   "outputs": [
    {
     "data": {
      "text/plain": [
       "<torch._C.Generator at 0x19762be6ef0>"
      ]
     },
     "execution_count": 5,
     "metadata": {},
     "output_type": "execute_result"
    }
   ],
   "source": [
    "torch.manual_seed(0)"
   ]
  },
  {
   "cell_type": "code",
   "execution_count": 45,
   "metadata": {},
   "outputs": [
    {
     "name": "stdout",
     "output_type": "stream",
     "text": [
      "5 5\n"
     ]
    }
   ],
   "source": [
    "# declare dictionary\n",
    "char_set = ['h', 'i', 'e', 'l', 'o']\n",
    "\n",
    "# hyper parameters\n",
    "input_size = len(char_set)\n",
    "hidden_size = len(char_set)\n",
    "learning_rate = 0.1\n"
   ]
  },
  {
   "cell_type": "code",
   "execution_count": 9,
   "metadata": {},
   "outputs": [],
   "source": [
    "# data setting\n",
    "x_data = [[0, 1, 0, 2, 3, 3]]\n",
    "x_one_hot = [[[1, 0, 0, 0, 0],\n",
    "              [0, 1, 0, 0, 0],\n",
    "              [1, 0, 0, 0, 0],\n",
    "              [0, 0, 1, 0, 0],\n",
    "              [0, 0, 0, 1, 0],\n",
    "              [0, 0, 0, 1, 0]]]\n",
    "y_data = [[1, 0, 2, 3, 3, 4]] # hihello에서 h를 제외한 나머지를 표현"
   ]
  },
  {
   "cell_type": "markdown",
   "metadata": {},
   "source": [
    "###### indexing 일반화 code\n",
    "\n",
    "\n",
    "sample = ' if you want you'\n",
    "# make dictionary\n",
    "char_set = list(set(sample)) # 중복 char 제거\n",
    "print(char_set)\n",
    "char_dic = {c: i for i, c in enumerate(char_set)} # indexing\n",
    "print(char_dic)\n",
    "\n",
    "# hyper parameter\n",
    "dic_size = len(char_dic)\n",
    "hidden_size = len(char_dic)\n",
    "learning_rate = 0.1\n",
    "\n",
    "# data setting\n",
    "sample_idx = [char_dic[c] for c in sample]\n",
    "x_data = [sample_idx[:-1]]\n",
    "x_one_hot = [np.eye(dic_size)[x] for x in x_data]\n",
    "y_data = [sample_idx[1:]]\n",
    "\n",
    "print(x_data)\n",
    "print(x_one_hot)\n",
    "print(y_data)"
   ]
  },
  {
   "cell_type": "code",
   "execution_count": 28,
   "metadata": {},
   "outputs": [],
   "source": [
    "def char_seq_indexing(sample):\n",
    "    # make dictionary\n",
    "    char_set = list(set(sample)) # 중복 char 제거\n",
    "    print(char_set)\n",
    "    char_dic = {c: i for i, c in enumerate(char_set)} # indexing\n",
    "    print(char_dic)\n",
    "\n",
    "# hyper parameter\n",
    "    dic_size = len(char_dic)\n",
    "    hidden_size = len(char_dic)\n",
    "    learning_rate = 0.1\n",
    "\n",
    "# data setting\n",
    "    sample_idx = [char_dic[c] for c in sample]\n",
    "    x_data = [sample_idx[:-1]]\n",
    "    x_one_hot = [np.eye(dic_size)[x] for x in x_data]\n",
    "    y_data = [sample_idx[1:]]\n",
    "\n",
    "    print(x_data)\n",
    "    print(x_one_hot)\n",
    "    print(y_data)\n",
    "    return x_data, x_one_hot, y_data"
   ]
  },
  {
   "cell_type": "code",
   "execution_count": 29,
   "metadata": {},
   "outputs": [
    {
     "name": "stdout",
     "output_type": "stream",
     "text": [
      "['o', 'i', 'l', 'e', 'h']\n",
      "{'o': 0, 'i': 1, 'l': 2, 'e': 3, 'h': 4}\n",
      "[[4, 1, 4, 3, 2, 2]]\n",
      "[array([[0., 0., 0., 0., 1.],\n",
      "       [0., 1., 0., 0., 0.],\n",
      "       [0., 0., 0., 0., 1.],\n",
      "       [0., 0., 0., 1., 0.],\n",
      "       [0., 0., 1., 0., 0.],\n",
      "       [0., 0., 1., 0., 0.]])]\n",
      "[[1, 4, 3, 2, 2, 0]]\n"
     ]
    }
   ],
   "source": [
    "char_set2 = 'hihello'\n",
    "\n",
    "x_data, x_one_hot, y_data = char_seq_indexing(char_set2)"
   ]
  },
  {
   "cell_type": "code",
   "execution_count": 30,
   "metadata": {},
   "outputs": [
    {
     "name": "stdout",
     "output_type": "stream",
     "text": [
      "[[4, 1, 4, 3, 2, 2]]\n",
      "[array([[0., 0., 0., 0., 1.],\n",
      "       [0., 1., 0., 0., 0.],\n",
      "       [0., 0., 0., 0., 1.],\n",
      "       [0., 0., 0., 1., 0.],\n",
      "       [0., 0., 1., 0., 0.],\n",
      "       [0., 0., 1., 0., 0.]])]\n",
      "[[1, 4, 3, 2, 2, 0]]\n"
     ]
    }
   ],
   "source": [
    "print(x_data)\n",
    "print(x_one_hot)\n",
    "print(y_data)"
   ]
  },
  {
   "cell_type": "code",
   "execution_count": 34,
   "metadata": {},
   "outputs": [],
   "source": [
    "X = torch.FloatTensor(x_one_hot)\n",
    "Y = torch.LongTensor(y_data)"
   ]
  },
  {
   "cell_type": "code",
   "execution_count": 35,
   "metadata": {},
   "outputs": [
    {
     "name": "stdout",
     "output_type": "stream",
     "text": [
      "tensor([[[0., 0., 0., 0., 1.],\n",
      "         [0., 1., 0., 0., 0.],\n",
      "         [0., 0., 0., 0., 1.],\n",
      "         [0., 0., 0., 1., 0.],\n",
      "         [0., 0., 1., 0., 0.],\n",
      "         [0., 0., 1., 0., 0.]]])\n",
      "tensor([[1, 4, 3, 2, 2, 0]])\n"
     ]
    }
   ],
   "source": [
    "print(X)\n",
    "print(Y)"
   ]
  },
  {
   "cell_type": "code",
   "execution_count": 54,
   "metadata": {},
   "outputs": [],
   "source": [
    "# declare RNN\n",
    "rnn = torch.nn.RNN(input_size, hidden_size, batch_first=True)  # batch_first guarantees the order of output = (B, S, F)\n",
    "\n",
    "# loss & optimizer setting\n",
    "criterion = torch.nn.CrossEntropyLoss()\n",
    "optimizer = optim.Adam(rnn.parameters(), learning_rate)\n"
   ]
  },
  {
   "cell_type": "code",
   "execution_count": 55,
   "metadata": {},
   "outputs": [
    {
     "name": "stdout",
     "output_type": "stream",
     "text": [
      "0 loss:  1.7583603858947754 prediction:  [[3 0 3 4 4 4]] true Y:  [[1, 4, 3, 2, 2, 0]] prediction str:  lhlooo\n",
      "1 loss:  1.5167204141616821 prediction:  [[3 0 3 4 4 4]] true Y:  [[1, 4, 3, 2, 2, 0]] prediction str:  lhlooo\n",
      "2 loss:  1.3541971445083618 prediction:  [[3 4 3 4 4 4]] true Y:  [[1, 4, 3, 2, 2, 0]] prediction str:  lolooo\n",
      "3 loss:  1.2446680068969727 prediction:  [[3 4 3 2 4 4]] true Y:  [[1, 4, 3, 2, 2, 0]] prediction str:  loleoo\n",
      "4 loss:  1.164326548576355 prediction:  [[1 4 3 2 2 2]] true Y:  [[1, 4, 3, 2, 2, 0]] prediction str:  ioleee\n",
      "5 loss:  1.094199776649475 prediction:  [[1 4 3 2 2 2]] true Y:  [[1, 4, 3, 2, 2, 0]] prediction str:  ioleee\n",
      "6 loss:  1.0300976037979126 prediction:  [[1 4 3 2 2 2]] true Y:  [[1, 4, 3, 2, 2, 0]] prediction str:  ioleee\n",
      "7 loss:  0.9844741821289062 prediction:  [[1 4 3 2 2 2]] true Y:  [[1, 4, 3, 2, 2, 0]] prediction str:  ioleee\n",
      "8 loss:  0.9422774910926819 prediction:  [[1 4 3 2 2 2]] true Y:  [[1, 4, 3, 2, 2, 0]] prediction str:  ioleee\n",
      "9 loss:  0.9117535948753357 prediction:  [[1 4 3 2 2 2]] true Y:  [[1, 4, 3, 2, 2, 0]] prediction str:  ioleee\n",
      "10 loss:  0.8821660876274109 prediction:  [[1 4 3 2 2 2]] true Y:  [[1, 4, 3, 2, 2, 0]] prediction str:  ioleee\n",
      "11 loss:  0.8566223978996277 prediction:  [[1 4 3 2 2 2]] true Y:  [[1, 4, 3, 2, 2, 0]] prediction str:  ioleee\n",
      "12 loss:  0.832968533039093 prediction:  [[1 4 3 2 2 2]] true Y:  [[1, 4, 3, 2, 2, 0]] prediction str:  ioleee\n",
      "13 loss:  0.8135868906974792 prediction:  [[1 4 3 2 2 2]] true Y:  [[1, 4, 3, 2, 2, 0]] prediction str:  ioleee\n",
      "14 loss:  0.790701687335968 prediction:  [[1 4 3 2 2 2]] true Y:  [[1, 4, 3, 2, 2, 0]] prediction str:  ioleee\n",
      "15 loss:  0.7685481905937195 prediction:  [[1 4 3 2 2 2]] true Y:  [[1, 4, 3, 2, 2, 0]] prediction str:  ioleee\n",
      "16 loss:  0.7553943991661072 prediction:  [[1 4 3 2 2 2]] true Y:  [[1, 4, 3, 2, 2, 0]] prediction str:  ioleee\n",
      "17 loss:  0.7439163327217102 prediction:  [[1 4 3 2 2 2]] true Y:  [[1, 4, 3, 2, 2, 0]] prediction str:  ioleee\n",
      "18 loss:  0.7299685478210449 prediction:  [[1 4 3 2 2 2]] true Y:  [[1, 4, 3, 2, 2, 0]] prediction str:  ioleee\n",
      "19 loss:  0.7140319347381592 prediction:  [[1 4 3 2 2 0]] true Y:  [[1, 4, 3, 2, 2, 0]] prediction str:  ioleeh\n",
      "20 loss:  0.6975269913673401 prediction:  [[1 4 3 2 2 2]] true Y:  [[1, 4, 3, 2, 2, 0]] prediction str:  ioleee\n",
      "21 loss:  0.6904088854789734 prediction:  [[1 4 3 2 2 2]] true Y:  [[1, 4, 3, 2, 2, 0]] prediction str:  ioleee\n",
      "22 loss:  0.675323486328125 prediction:  [[1 4 3 2 2 2]] true Y:  [[1, 4, 3, 2, 2, 0]] prediction str:  ioleee\n",
      "23 loss:  0.6581247448921204 prediction:  [[1 4 3 2 2 0]] true Y:  [[1, 4, 3, 2, 2, 0]] prediction str:  ioleeh\n",
      "24 loss:  0.64488685131073 prediction:  [[1 4 3 2 2 0]] true Y:  [[1, 4, 3, 2, 2, 0]] prediction str:  ioleeh\n",
      "25 loss:  0.6327525973320007 prediction:  [[1 4 3 2 2 0]] true Y:  [[1, 4, 3, 2, 2, 0]] prediction str:  ioleeh\n",
      "26 loss:  0.6206493973731995 prediction:  [[1 4 3 2 2 0]] true Y:  [[1, 4, 3, 2, 2, 0]] prediction str:  ioleeh\n",
      "27 loss:  0.6087074279785156 prediction:  [[1 4 3 2 2 0]] true Y:  [[1, 4, 3, 2, 2, 0]] prediction str:  ioleeh\n",
      "28 loss:  0.598411500453949 prediction:  [[1 4 3 2 2 0]] true Y:  [[1, 4, 3, 2, 2, 0]] prediction str:  ioleeh\n",
      "29 loss:  0.5933868288993835 prediction:  [[1 4 3 2 2 0]] true Y:  [[1, 4, 3, 2, 2, 0]] prediction str:  ioleeh\n",
      "30 loss:  0.5850453972816467 prediction:  [[1 4 3 2 2 0]] true Y:  [[1, 4, 3, 2, 2, 0]] prediction str:  ioleeh\n",
      "31 loss:  0.5688387751579285 prediction:  [[1 4 3 2 2 0]] true Y:  [[1, 4, 3, 2, 2, 0]] prediction str:  ioleeh\n",
      "32 loss:  0.5564754009246826 prediction:  [[1 4 3 2 2 0]] true Y:  [[1, 4, 3, 2, 2, 0]] prediction str:  ioleeh\n",
      "33 loss:  0.5519335865974426 prediction:  [[1 4 3 2 2 0]] true Y:  [[1, 4, 3, 2, 2, 0]] prediction str:  ioleeh\n",
      "34 loss:  0.5508118271827698 prediction:  [[1 4 3 2 2 0]] true Y:  [[1, 4, 3, 2, 2, 0]] prediction str:  ioleeh\n",
      "35 loss:  0.5466802716255188 prediction:  [[1 4 3 2 2 0]] true Y:  [[1, 4, 3, 2, 2, 0]] prediction str:  ioleeh\n",
      "36 loss:  0.5391861796379089 prediction:  [[1 4 3 2 2 0]] true Y:  [[1, 4, 3, 2, 2, 0]] prediction str:  ioleeh\n",
      "37 loss:  0.5314441323280334 prediction:  [[1 4 3 2 2 0]] true Y:  [[1, 4, 3, 2, 2, 0]] prediction str:  ioleeh\n",
      "38 loss:  0.5253276228904724 prediction:  [[1 4 3 2 2 0]] true Y:  [[1, 4, 3, 2, 2, 0]] prediction str:  ioleeh\n",
      "39 loss:  0.5205129384994507 prediction:  [[1 4 3 2 2 0]] true Y:  [[1, 4, 3, 2, 2, 0]] prediction str:  ioleeh\n",
      "40 loss:  0.5159339308738708 prediction:  [[1 4 3 2 2 0]] true Y:  [[1, 4, 3, 2, 2, 0]] prediction str:  ioleeh\n",
      "41 loss:  0.5112153887748718 prediction:  [[1 4 3 2 2 0]] true Y:  [[1, 4, 3, 2, 2, 0]] prediction str:  ioleeh\n",
      "42 loss:  0.5076795220375061 prediction:  [[1 4 3 2 2 0]] true Y:  [[1, 4, 3, 2, 2, 0]] prediction str:  ioleeh\n",
      "43 loss:  0.5069376826286316 prediction:  [[1 4 3 2 2 0]] true Y:  [[1, 4, 3, 2, 2, 0]] prediction str:  ioleeh\n",
      "44 loss:  0.5035269856452942 prediction:  [[1 4 3 2 2 0]] true Y:  [[1, 4, 3, 2, 2, 0]] prediction str:  ioleeh\n",
      "45 loss:  0.4989912509918213 prediction:  [[1 4 3 2 2 0]] true Y:  [[1, 4, 3, 2, 2, 0]] prediction str:  ioleeh\n",
      "46 loss:  0.497190922498703 prediction:  [[1 4 3 2 2 0]] true Y:  [[1, 4, 3, 2, 2, 0]] prediction str:  ioleeh\n",
      "47 loss:  0.4962122440338135 prediction:  [[1 4 3 2 2 0]] true Y:  [[1, 4, 3, 2, 2, 0]] prediction str:  ioleeh\n",
      "48 loss:  0.49476945400238037 prediction:  [[1 4 3 2 2 0]] true Y:  [[1, 4, 3, 2, 2, 0]] prediction str:  ioleeh\n",
      "49 loss:  0.492715984582901 prediction:  [[1 4 3 2 2 0]] true Y:  [[1, 4, 3, 2, 2, 0]] prediction str:  ioleeh\n",
      "50 loss:  0.4906770884990692 prediction:  [[1 4 3 2 2 0]] true Y:  [[1, 4, 3, 2, 2, 0]] prediction str:  ioleeh\n",
      "51 loss:  0.489656925201416 prediction:  [[1 4 3 2 2 0]] true Y:  [[1, 4, 3, 2, 2, 0]] prediction str:  ioleeh\n",
      "52 loss:  0.4890373945236206 prediction:  [[1 4 3 2 2 0]] true Y:  [[1, 4, 3, 2, 2, 0]] prediction str:  ioleeh\n",
      "53 loss:  0.4869856834411621 prediction:  [[1 4 3 2 2 0]] true Y:  [[1, 4, 3, 2, 2, 0]] prediction str:  ioleeh\n",
      "54 loss:  0.4853237569332123 prediction:  [[1 4 3 2 2 0]] true Y:  [[1, 4, 3, 2, 2, 0]] prediction str:  ioleeh\n",
      "55 loss:  0.4845644533634186 prediction:  [[1 4 3 2 2 0]] true Y:  [[1, 4, 3, 2, 2, 0]] prediction str:  ioleeh\n",
      "56 loss:  0.483672171831131 prediction:  [[1 4 3 2 2 0]] true Y:  [[1, 4, 3, 2, 2, 0]] prediction str:  ioleeh\n",
      "57 loss:  0.48233065009117126 prediction:  [[1 4 3 2 2 0]] true Y:  [[1, 4, 3, 2, 2, 0]] prediction str:  ioleeh\n",
      "58 loss:  0.48122406005859375 prediction:  [[1 4 3 2 2 0]] true Y:  [[1, 4, 3, 2, 2, 0]] prediction str:  ioleeh\n",
      "59 loss:  0.48092666268348694 prediction:  [[1 4 3 2 2 0]] true Y:  [[1, 4, 3, 2, 2, 0]] prediction str:  ioleeh\n",
      "60 loss:  0.48001399636268616 prediction:  [[1 4 3 2 2 0]] true Y:  [[1, 4, 3, 2, 2, 0]] prediction str:  ioleeh\n",
      "61 loss:  0.4789365231990814 prediction:  [[1 4 3 2 2 0]] true Y:  [[1, 4, 3, 2, 2, 0]] prediction str:  ioleeh\n",
      "62 loss:  0.47848042845726013 prediction:  [[1 4 3 2 2 0]] true Y:  [[1, 4, 3, 2, 2, 0]] prediction str:  ioleeh\n",
      "63 loss:  0.4778619706630707 prediction:  [[1 4 3 2 2 0]] true Y:  [[1, 4, 3, 2, 2, 0]] prediction str:  ioleeh\n",
      "64 loss:  0.4769028127193451 prediction:  [[1 4 3 2 2 0]] true Y:  [[1, 4, 3, 2, 2, 0]] prediction str:  ioleeh\n",
      "65 loss:  0.4762303829193115 prediction:  [[1 4 3 2 2 0]] true Y:  [[1, 4, 3, 2, 2, 0]] prediction str:  ioleeh\n",
      "66 loss:  0.47591114044189453 prediction:  [[1 4 3 2 2 0]] true Y:  [[1, 4, 3, 2, 2, 0]] prediction str:  ioleeh\n",
      "67 loss:  0.475159615278244 prediction:  [[1 4 3 2 2 0]] true Y:  [[1, 4, 3, 2, 2, 0]] prediction str:  ioleeh\n",
      "68 loss:  0.47461071610450745 prediction:  [[1 4 3 2 2 0]] true Y:  [[1, 4, 3, 2, 2, 0]] prediction str:  ioleeh\n",
      "69 loss:  0.47431907057762146 prediction:  [[1 4 3 2 2 0]] true Y:  [[1, 4, 3, 2, 2, 0]] prediction str:  ioleeh\n",
      "70 loss:  0.4738297462463379 prediction:  [[1 4 3 2 2 0]] true Y:  [[1, 4, 3, 2, 2, 0]] prediction str:  ioleeh\n",
      "71 loss:  0.47327280044555664 prediction:  [[1 4 3 2 2 0]] true Y:  [[1, 4, 3, 2, 2, 0]] prediction str:  ioleeh\n",
      "72 loss:  0.47297123074531555 prediction:  [[1 4 3 2 2 0]] true Y:  [[1, 4, 3, 2, 2, 0]] prediction str:  ioleeh\n",
      "73 loss:  0.47258034348487854 prediction:  [[1 4 3 2 2 0]] true Y:  [[1, 4, 3, 2, 2, 0]] prediction str:  ioleeh\n",
      "74 loss:  0.4720648527145386 prediction:  [[1 4 3 2 2 0]] true Y:  [[1, 4, 3, 2, 2, 0]] prediction str:  ioleeh\n",
      "75 loss:  0.47175315022468567 prediction:  [[1 4 3 2 2 0]] true Y:  [[1, 4, 3, 2, 2, 0]] prediction str:  ioleeh\n",
      "76 loss:  0.47141119837760925 prediction:  [[1 4 3 2 2 0]] true Y:  [[1, 4, 3, 2, 2, 0]] prediction str:  ioleeh\n",
      "77 loss:  0.4709683954715729 prediction:  [[1 4 3 2 2 0]] true Y:  [[1, 4, 3, 2, 2, 0]] prediction str:  ioleeh\n",
      "78 loss:  0.47065889835357666 prediction:  [[1 4 3 2 2 0]] true Y:  [[1, 4, 3, 2, 2, 0]] prediction str:  ioleeh\n",
      "79 loss:  0.470380574464798 prediction:  [[1 4 3 2 2 0]] true Y:  [[1, 4, 3, 2, 2, 0]] prediction str:  ioleeh\n",
      "80 loss:  0.46999597549438477 prediction:  [[1 4 3 2 2 0]] true Y:  [[1, 4, 3, 2, 2, 0]] prediction str:  ioleeh\n",
      "81 loss:  0.4697260856628418 prediction:  [[1 4 3 2 2 0]] true Y:  [[1, 4, 3, 2, 2, 0]] prediction str:  ioleeh\n",
      "82 loss:  0.46946287155151367 prediction:  [[1 4 3 2 2 0]] true Y:  [[1, 4, 3, 2, 2, 0]] prediction str:  ioleeh\n",
      "83 loss:  0.4691285192966461 prediction:  [[1 4 3 2 2 0]] true Y:  [[1, 4, 3, 2, 2, 0]] prediction str:  ioleeh\n",
      "84 loss:  0.4688659608364105 prediction:  [[1 4 3 2 2 0]] true Y:  [[1, 4, 3, 2, 2, 0]] prediction str:  ioleeh\n",
      "85 loss:  0.4686167538166046 prediction:  [[1 4 3 2 2 0]] true Y:  [[1, 4, 3, 2, 2, 0]] prediction str:  ioleeh\n",
      "86 loss:  0.46830976009368896 prediction:  [[1 4 3 2 2 0]] true Y:  [[1, 4, 3, 2, 2, 0]] prediction str:  ioleeh\n",
      "87 loss:  0.4680713415145874 prediction:  [[1 4 3 2 2 0]] true Y:  [[1, 4, 3, 2, 2, 0]] prediction str:  ioleeh\n",
      "88 loss:  0.46782997250556946 prediction:  [[1 4 3 2 2 0]] true Y:  [[1, 4, 3, 2, 2, 0]] prediction str:  ioleeh\n",
      "89 loss:  0.46755874156951904 prediction:  [[1 4 3 2 2 0]] true Y:  [[1, 4, 3, 2, 2, 0]] prediction str:  ioleeh\n",
      "90 loss:  0.46734026074409485 prediction:  [[1 4 3 2 2 0]] true Y:  [[1, 4, 3, 2, 2, 0]] prediction str:  ioleeh\n",
      "91 loss:  0.46711501479148865 prediction:  [[1 4 3 2 2 0]] true Y:  [[1, 4, 3, 2, 2, 0]] prediction str:  ioleeh\n",
      "92 loss:  0.46687281131744385 prediction:  [[1 4 3 2 2 0]] true Y:  [[1, 4, 3, 2, 2, 0]] prediction str:  ioleeh\n",
      "93 loss:  0.46667179465293884 prediction:  [[1 4 3 2 2 0]] true Y:  [[1, 4, 3, 2, 2, 0]] prediction str:  ioleeh\n",
      "94 loss:  0.46645617485046387 prediction:  [[1 4 3 2 2 0]] true Y:  [[1, 4, 3, 2, 2, 0]] prediction str:  ioleeh\n",
      "95 loss:  0.46623528003692627 prediction:  [[1 4 3 2 2 0]] true Y:  [[1, 4, 3, 2, 2, 0]] prediction str:  ioleeh\n",
      "96 loss:  0.4660440981388092 prediction:  [[1 4 3 2 2 0]] true Y:  [[1, 4, 3, 2, 2, 0]] prediction str:  ioleeh\n",
      "97 loss:  0.46583613753318787 prediction:  [[1 4 3 2 2 0]] true Y:  [[1, 4, 3, 2, 2, 0]] prediction str:  ioleeh\n",
      "98 loss:  0.4656341075897217 prediction:  [[1 4 3 2 2 0]] true Y:  [[1, 4, 3, 2, 2, 0]] prediction str:  ioleeh\n",
      "99 loss:  0.4654504358768463 prediction:  [[1 4 3 2 2 0]] true Y:  [[1, 4, 3, 2, 2, 0]] prediction str:  ioleeh\n"
     ]
    }
   ],
   "source": [
    "# start training\n",
    "for i in range(100):\n",
    "    optimizer.zero_grad()\n",
    "    outputs, _status = rnn(X) # _status 는 hidden satatus를 의미\n",
    "    loss = criterion(outputs.view(-1, input_size), Y.view(-1)) \n",
    "    loss.backward()\n",
    "    optimizer.step()\n",
    "\n",
    "    result = outputs.data.numpy().argmax(axis=2) # index 2의 dim의 argmax의 index를 가져온다.\n",
    "    result_str = ''.join([char_set[c] for c in np.squeeze(result)]) # join을 통해 하나의 str로 만든다.\n",
    "    # np.squeeze는 dim1을 지운다.\n",
    "    print(i, \"loss: \", loss.item(), \"prediction: \", result, \"true Y: \", y_data, \"prediction str: \", result_str)"
   ]
  },
  {
   "cell_type": "code",
   "execution_count": null,
   "metadata": {},
   "outputs": [],
   "source": []
  }
 ],
 "metadata": {
  "kernelspec": {
   "display_name": "Python 3",
   "language": "python",
   "name": "python3"
  },
  "language_info": {
   "codemirror_mode": {
    "name": "ipython",
    "version": 3
   },
   "file_extension": ".py",
   "mimetype": "text/x-python",
   "name": "python",
   "nbconvert_exporter": "python",
   "pygments_lexer": "ipython3",
   "version": "3.7.6"
  }
 },
 "nbformat": 4,
 "nbformat_minor": 4
}
