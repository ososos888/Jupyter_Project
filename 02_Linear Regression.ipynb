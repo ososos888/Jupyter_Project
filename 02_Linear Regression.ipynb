{
 "cells": [
  {
   "cell_type": "markdown",
   "metadata": {},
   "source": [
    "1. Data definition\n",
    "\n",
    "입력 data(공부 시간에 따른 획득 점수)\n",
    "Hours (x) Points(y)\n",
    "    1        2\n",
    "    2        4\n",
    "    3        6\n",
    "    4        ?\n",
    "    \n",
    "2. Hypothesis\n",
    "\n",
    "y = Wx + b // W(weight), b(bias)\n",
    "\n",
    "4. Gradient descent\n"
   ]
  },
  {
   "cell_type": "markdown",
   "metadata": {},
   "source": [
    "3. Compute loss"
   ]
  },
  {
   "cell_type": "markdown",
   "metadata": {},
   "source": [
    "02_1"
   ]
  },
  {
   "cell_type": "code",
   "execution_count": 1,
   "metadata": {},
   "outputs": [],
   "source": [
    "import torch"
   ]
  },
  {
   "cell_type": "code",
   "execution_count": 92,
   "metadata": {},
   "outputs": [],
   "source": [
    "#Train Dataset 생성\n",
    "x_train = torch.FloatTensor([[1], [2], [3]])\n",
    "y_train = torch.FloatTensor([[2], [4], [6]])\n",
    "#x_train = torch.FloatTensor([1., 2., 3.])\n",
    "#y_train = torch.FloatTensor([2., 4., 6.])"
   ]
  },
  {
   "cell_type": "code",
   "execution_count": 97,
   "metadata": {},
   "outputs": [],
   "source": [
    "#W와 B를 0으로 초기화 \n",
    "#zeros function = zeros(at::IntArrayRef size, const at::TensorOptions&options={})\n",
    "#requires_grad는 해당 tensor에서 이뤄진 모든 연산들의 track 여부\n",
    "#requires_grad True 는 학습 여부를 의미?\n",
    "W = torch.zeros(1, requires_grad=True)\n",
    "b = torch.zeros(1, requires_grad=True)\n",
    "hypothesis = x_train*W + b"
   ]
  },
  {
   "cell_type": "code",
   "execution_count": 98,
   "metadata": {},
   "outputs": [],
   "source": [
    "#Compute loss 계산\n",
    "#결과값 차이의 제곱의 평균을 통해 계산한다\n",
    "cost = torch.mean((hypothesis - y_train)**2)"
   ]
  },
  {
   "cell_type": "code",
   "execution_count": 99,
   "metadata": {},
   "outputs": [],
   "source": [
    "#optim은 pytorch에서 제공하는 다양한 optimization algorithm package이다.\n",
    "#[,] 내에는 학습시킬 tensoro를 넣는다. lr 는 learning rate를 의미.\n",
    "#zero_grad() -> gradient 초기화 // backward() -> gradient 계선 // step() -> gradient 개선\n",
    "\n",
    "#W에 Gradient값 저장\n",
    "optimizer = torch.optim.SGD([W, b], lr=0.01)\n",
    "\n",
    "nb_epochs = 4000\n",
    "for epoch in range(1, nb_epochs + 1):\n",
    "    hypothesis = x_train * W + b\n",
    "    cost = torch.mean((hypothesis - y_train) ** 2)\n",
    "    \n",
    "    #optimizer의 gradient 0으로 초기화\n",
    "    optimizer.zero_grad()\n",
    "    #costfunc을 미분하여 grad를 채움\n",
    "    cost.backward()\n",
    "    #저장된 gradient 값으로 gradient descent 실핼\n",
    "    optimizer.step()"
   ]
  },
  {
   "cell_type": "code",
   "execution_count": 100,
   "metadata": {},
   "outputs": [
    {
     "name": "stdout",
     "output_type": "stream",
     "text": [
      "tensor(3.4404e-10, grad_fn=<MeanBackward0>)\n",
      "tensor([[2.0000],\n",
      "        [4.0000],\n",
      "        [6.0000]], grad_fn=<AddBackward0>)\n"
     ]
    }
   ],
   "source": [
    "print(cost)\n",
    "print(hypothesis)"
   ]
  },
  {
   "cell_type": "markdown",
   "metadata": {},
   "source": [
    "1000회 반복 시 tensor([[2.0373],[4.0080],[5.9787]], grad_fn=<AddBackward0>)\n",
    "약 4000회 반복 시 tensor([[2.0000], [4.0000],[6.0000]], grad_fn=<AddBackward0>)"
   ]
  }
 ],
 "metadata": {
  "kernelspec": {
   "display_name": "Python 3",
   "language": "python",
   "name": "python3"
  },
  "language_info": {
   "codemirror_mode": {
    "name": "ipython",
    "version": 3
   },
   "file_extension": ".py",
   "mimetype": "text/x-python",
   "name": "python",
   "nbconvert_exporter": "python",
   "pygments_lexer": "ipython3",
   "version": "3.7.6"
  }
 },
 "nbformat": 4,
 "nbformat_minor": 4
}
