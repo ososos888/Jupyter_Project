{
 "cells": [
  {
   "cell_type": "markdown",
   "metadata": {},
   "source": [
    "# Linear Regression"
   ]
  },
  {
   "cell_type": "markdown",
   "metadata": {},
   "source": [
    "\n",
    "### Theoretical Overview<br>\n",
    "$$ H(x) = Wx + b $$\n",
    "$$ cost(W, b) = \\frac{1}{m} \\sum^m_{i=1} \\left( H(x^{(i)}) - y^{(i)} \\right)^2 $$<br>\n",
    "$H(x)$: 주어진 $x$ 값에 대해 예측을 어떻게 할 것인가<br>\n",
    "$cost(W, b)$: $H(x)$ 가 $y$ 를 얼마나 잘 예측했는가\n"
   ]
  },
  {
   "cell_type": "markdown",
   "metadata": {},
   "source": [
    "### Imports"
   ]
  },
  {
   "cell_type": "code",
   "execution_count": 6,
   "metadata": {},
   "outputs": [],
   "source": [
    "import torch"
   ]
  },
  {
   "cell_type": "markdown",
   "metadata": {},
   "source": [
    "### Data"
   ]
  },
  {
   "cell_type": "code",
   "execution_count": 3,
   "metadata": {},
   "outputs": [],
   "source": [
    "#Training Dataset 생성\n",
    "x_train = torch.FloatTensor([[1], [2], [3]])\n",
    "y_train = torch.FloatTensor([[2], [4], [6]])\n",
    "#x_train = torch.FloatTensor([1., 2., 3.])\n",
    "#y_train = torch.FloatTensor([2., 4., 6.])"
   ]
  },
  {
   "cell_type": "markdown",
   "metadata": {},
   "source": [
    "### Hypothesis"
   ]
  },
  {
   "cell_type": "code",
   "execution_count": 12,
   "metadata": {},
   "outputs": [],
   "source": [
    "#W와 b 초기화 \n",
    "#zeros function = zeros(at::IntArrayRef size, const at::TensorOptions&options={})\n",
    "# requires_grad는 해당 Tensor에서 행해지는 모든 연산에 대한 미분값 계산 유무이다.\n",
    "W = torch.zeros(1, requires_grad=True)\n",
    "b = torch.zeros(1, requires_grad=True)\n",
    "hypothesis = x_train*W + b"
   ]
  },
  {
   "cell_type": "markdown",
   "metadata": {},
   "source": [
    "### Cost"
   ]
  },
  {
   "cell_type": "code",
   "execution_count": 13,
   "metadata": {},
   "outputs": [
    {
     "name": "stdout",
     "output_type": "stream",
     "text": [
      "tensor(18.6667, grad_fn=<MeanBackward0>)\n"
     ]
    }
   ],
   "source": [
    "#Cost func 직접 구현\n",
    "cost = torch.mean((hypothesis - y_train)**2)\n",
    "print(cost)"
   ]
  },
  {
   "cell_type": "markdown",
   "metadata": {},
   "source": [
    "### Gradient descent"
   ]
  },
  {
   "cell_type": "code",
   "execution_count": 14,
   "metadata": {},
   "outputs": [],
   "source": [
    "#optim은 pytorch에서 제공하는 다양한 optimization algorithm package이다.\n",
    "#[,] 내에는 학습시킬 tenser를 넣는다. lr 는 learning rate를 의미.\n",
    "#zero_grad() -> gradient 초기화 // backward() -> gradient 계선 // step() -> gradient 개선\n",
    "\n",
    "#W에 Gradient값 저장\n",
    "optimizer = torch.optim.SGD([W, b], lr=0.01)\n",
    "\n",
    "nb_epochs = 1000\n",
    "for epoch in range(1, nb_epochs + 1):\n",
    "    hypothesis = x_train * W + b\n",
    "    cost = torch.mean((hypothesis - y_train) ** 2)\n",
    "    \n",
    "    #optimizer의 gradient 0으로 초기화\n",
    "    optimizer.zero_grad()\n",
    "    #costfunc을 미분하여 grad를 채움\n",
    "    cost.backward()\n",
    "    #저장된 gradient 값으로 gradient descent 실핼\n",
    "    optimizer.step()"
   ]
  },
  {
   "cell_type": "code",
   "execution_count": 15,
   "metadata": {},
   "outputs": [
    {
     "name": "stdout",
     "output_type": "stream",
     "text": [
      "tensor(0.0006, grad_fn=<MeanBackward0>)\n",
      "tensor([[2.0373],\n",
      "        [4.0080],\n",
      "        [5.9787]], grad_fn=<AddBackward0>)\n"
     ]
    }
   ],
   "source": [
    "print(cost)\n",
    "print(hypothesis)"
   ]
  },
  {
   "cell_type": "markdown",
   "metadata": {},
   "source": [
    "1000회 반복 시 tensor([[2.0373],[4.0080],[5.9787]], grad_fn=<AddBackward0>)\n",
    "약 4000회 반복 시 tensor([[2.0000], [4.0000],[6.0000]], grad_fn=<AddBackward0>)"
   ]
  }
 ],
 "metadata": {
  "kernelspec": {
   "display_name": "Python 3",
   "language": "python",
   "name": "python3"
  },
  "language_info": {
   "codemirror_mode": {
    "name": "ipython",
    "version": 3
   },
   "file_extension": ".py",
   "mimetype": "text/x-python",
   "name": "python",
   "nbconvert_exporter": "python",
   "pygments_lexer": "ipython3",
   "version": "3.7.6"
  }
 },
 "nbformat": 4,
 "nbformat_minor": 4
}
