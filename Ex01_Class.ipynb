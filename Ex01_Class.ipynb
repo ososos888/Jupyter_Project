{
 "cells": [
  {
   "cell_type": "markdown",
   "metadata": {},
   "source": [
    "# Class"
   ]
  },
  {
   "cell_type": "markdown",
   "metadata": {},
   "source": [
    " #### Class란?\n",
    " \n",
    " 클래스(class)란 똑같은 무엇인가를 계속해서 만들어 낼 수 있는 설계 도면과 같다.  \n",
    " \n",
    " 변수, 함수 등을 포함한 커다란 묶음으로 생각할 수 있다.  \n",
    " \n",
    " Class를 통해 생성된 객체는 각각 독립적이다.<br>"
   ]
  },
  {
   "cell_type": "markdown",
   "metadata": {},
   "source": [
    "#### Class의 정의"
   ]
  },
  {
   "cell_type": "code",
   "execution_count": 2,
   "metadata": {},
   "outputs": [
    {
     "data": {
      "text/plain": [
       "'\\nclass 클래스 이름:\\n    변수1  \\n    변수2  \\n    ......필요한 만큼 변수를 제공......  \\n    def 메소드1(인수):\\n        ......메소드의 처리......  \\n    def 메소드2(인수):\\n        ......메소드의 처리......  \\n    ......필요한만큼 메소드를 제공......\\n\\n출처: https://araikuma.tistory.com/371 [프로그램 개발 지식 공유]\\n'"
      ]
     },
     "execution_count": 2,
     "metadata": {},
     "output_type": "execute_result"
    }
   ],
   "source": [
    "\"\"\"\n",
    "class 클래스 이름:\n",
    "    변수1  \n",
    "    변수2  \n",
    "    ......필요한 만큼 변수를 제공......  \n",
    "    \n",
    "    def 메소드1(인수):\n",
    "        ......메소드의 처리......  \n",
    "        \n",
    "    def 메소드2(인수):\n",
    "        ......메소드의 처리......  \n",
    "        \n",
    "    ......필요한만큼 메소드를 제공......\n",
    "\n",
    "출처: https://araikuma.tistory.com/371 [프로그램 개발 지식 공유]\n",
    "\"\"\""
   ]
  },
  {
   "cell_type": "code",
   "execution_count": 10,
   "metadata": {},
   "outputs": [
    {
     "name": "stdout",
     "output_type": "stream",
     "text": [
      "Hello, Taro. How are you?\n",
      "Hello, Hanako. How are you?\n"
     ]
    }
   ],
   "source": [
    "# Sample 예제\n",
    "class Member:\n",
    "    # 이름을 저장 할 name이라는 변수를 선언\n",
    "    name = \"\"\n",
    "    \n",
    "    def showMsg(self):\n",
    "        print(\"Hello, \" + self.name + \". How are you?\")\n",
    "\n",
    "# taro로 Class instance 생성을 Member()로 호출\n",
    "taro = Member()\n",
    "# name 변수에 Taro 저장\n",
    "taro.name = \"Taro\"\n",
    "# Class 내 ShowMsg 메소드 실행\n",
    "taro.showMsg()\n",
    "\n",
    "hanako = Member()\n",
    "hanako.name = \"Hanako\"\n",
    "hanako.showMsg()\n",
    "\n"
   ]
  },
  {
   "cell_type": "markdown",
   "metadata": {},
   "source": [
    "#### Constructor(생성자)  \n",
    "\n",
    "위는 Class의 기초적인 사용법이다. 하지만 이러한 방식은 직접 하나하나 입력하는 방식과 다를게 없다.  \n",
    "게다가 인스턴스를 만든 뒤 멤버변수의 설정을 잊으면 생각대로 움직이지 않는다. 적어도 필요한 값은 처음부터 제대로 설정 사용하고 싶다. 이럴떄 유용한 것이 Constructor(생성자)이다."
   ]
  },
  {
   "cell_type": "code",
   "execution_count": 11,
   "metadata": {},
   "outputs": [
    {
     "data": {
      "text/plain": [
       "'\\ndef __init__(self 인수..):\\n    ........ 초기화 처리 ........\\n'"
      ]
     },
     "execution_count": 11,
     "metadata": {},
     "output_type": "execute_result"
    }
   ],
   "source": [
    "# 인스턴스를 생성할 때 자동으로 호출되는 인스턴스 초기화 방법\n",
    "\n",
    "\"\"\"\n",
    "def __init__(self 인수..):\n",
    "    ........ 초기화 처리 ........\n",
    "\"\"\"\n",
    "# 위 예제를 Constructor를 추가해 만들어보자."
   ]
  },
  {
   "cell_type": "code",
   "execution_count": 13,
   "metadata": {},
   "outputs": [
    {
     "name": "stdout",
     "output_type": "stream",
     "text": [
      "Hello,Taro.How are you?\n",
      "<__main__.Member object at 0x000001F38F586CC8>\n",
      "Hello,Hanako.How are you?\n"
     ]
    }
   ],
   "source": [
    "class Member:\n",
    "    name = \"\"\n",
    "    \n",
    "    def __init__(self, str):\n",
    "        self.name = str\n",
    "    \n",
    "    def showMsg(self):\n",
    "        print(\"Hello,\" + self.name + \".How are you?\")\n",
    "        \n",
    "taro = Member(\"Taro\")\n",
    "taro.showMsg()\n",
    "    \n",
    "hanako = Member(\"Hanako\")\n",
    "hanako.showMsg()\n"
   ]
  },
  {
   "cell_type": "markdown",
   "metadata": {},
   "source": [
    "## 상속 Class <br> \n",
    "  \n",
    "  \n",
    "상속이라는 것은 이미 존재하는 클래스를 그대로 이어 받아 새로운 클래스를 만드는 것이다.  \n",
    "\"이어 받는다\"라는 것은 \"클래스의 모든 기능을 그대로 이어 받는다\"라는 것이다.  \n",
    "즉, 그 클래스에 있는 것을 통째로 그대로 받아 새로운 클래스를 만든다.<br><br>\n",
    "\n",
    "이 상속을 사용하여 클래스를 정의하려면 다음과 같이 클래스를 만든다.\n"
   ]
  },
  {
   "cell_type": "code",
   "execution_count": 15,
   "metadata": {},
   "outputs": [
    {
     "data": {
      "text/plain": [
       "'\\ndef 클래스 이름(상속하는 클래스):\\n    ...... 클래스의 내용 ......\\n'"
      ]
     },
     "execution_count": 15,
     "metadata": {},
     "output_type": "execute_result"
    }
   ],
   "source": [
    "\"\"\"\n",
    "def 클래스 이름(상속하는 클래스):\n",
    "    ...... 클래스의 내용 ......\n",
    "\"\"\""
   ]
  },
  {
   "cell_type": "code",
   "execution_count": 18,
   "metadata": {},
   "outputs": [
    {
     "name": "stdout",
     "output_type": "stream",
     "text": [
      "Hello,Taro.How are you?\n",
      "Hello,Hanako.\n",
      "Your mail address is 'hanako@flower.com'.\n"
     ]
    }
   ],
   "source": [
    "# PowerMember Class는 Member Class를 상속하여 파생된 Class이다.\n",
    "class PowerMember (Member):\n",
    "    mail = \"\"\n",
    "    \n",
    "    # name과 mail 두가지의 인수를 받는다.\n",
    "    # mail은 이 class에 할당된 인수를 사용하고 name인수는 상속받은 Member Class에서 가져온다.\n",
    "    def __init__(self,str1,str2):\n",
    "        self.name = str1\n",
    "        self.mail = str2\n",
    "        \n",
    "    def showMsg(self):\n",
    "        print(\"Hello,\" + self.name + \".\")\n",
    "        print(\"Your mail address is '\" + self.mail + \"'.\")\n",
    "        \n",
    "taro = Member(\"Taro\")\n",
    "taro.showMsg()\n",
    "    \n",
    "hanako = PowerMember(\"Hanako\",\"hanako@flower.com\")\n",
    "hanako.showMsg()\n"
   ]
  },
  {
   "cell_type": "markdown",
   "metadata": {},
   "source": [
    "## Pytorch에서 Class 형태의 Model 사용"
   ]
  },
  {
   "cell_type": "markdown",
   "metadata": {},
   "source": [
    "04_Multivariate Linear Regression에서 사용한 Model을 통해 예를 들어보자."
   ]
  },
  {
   "cell_type": "code",
   "execution_count": 21,
   "metadata": {},
   "outputs": [],
   "source": [
    "# Library Import\n",
    "# nn: Deep learning model에 필요한 모듈이 모아져 있는 패키지\n",
    "# ex) nn.Linear(128, 128), nn.ReLU()\n",
    "import torch.nn as nn\n",
    "\n",
    "# Class형태의 Model은 반드시 nn.Module을 상속해야한다.\n",
    "class MultivariateLinearRegressionModel(nn.Module):\n",
    "    def __init__(self):\n",
    "        #super 함수는 super class의 method를 호출하라는 의미이다. 즉 nn.Module의 initialize를 의미\n",
    "        super().__init__()\n",
    "        # 파이토치에서는 선형 회귀 모델이 nn.Linear(input dim, output dim)라는 함수로 구현되어있다.\n",
    "        self.linear = nn.Linear(3, 1)\n",
    "    \n",
    "    #forward() 는 모델이 학습데이터를 입력받아서 forward propagation을 진행시키는 함수이고,\n",
    "    #반드시 forward 라는 이름의 함수이어야 한다.\n",
    "    def forward(self, x):\n",
    "        return self.linear(x)"
   ]
  },
  {
   "cell_type": "code",
   "execution_count": null,
   "metadata": {},
   "outputs": [],
   "source": []
  }
 ],
 "metadata": {
  "kernelspec": {
   "display_name": "Python 3",
   "language": "python",
   "name": "python3"
  },
  "language_info": {
   "codemirror_mode": {
    "name": "ipython",
    "version": 3
   },
   "file_extension": ".py",
   "mimetype": "text/x-python",
   "name": "python",
   "nbconvert_exporter": "python",
   "pygments_lexer": "ipython3",
   "version": "3.7.6"
  }
 },
 "nbformat": 4,
 "nbformat_minor": 4
}
