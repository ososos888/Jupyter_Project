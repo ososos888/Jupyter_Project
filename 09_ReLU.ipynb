{
 "cells": [
  {
   "cell_type": "markdown",
   "metadata": {},
   "source": []
  },
  {
   "cell_type": "markdown",
   "metadata": {},
   "source": [
    "### Problem of Sigmoid<br><br>\n",
    "\n",
    "sigmoid func은 좌우 끝단에서 Gradient Backpropagation 계산 시 크기가 매우 작기 때문에   \n",
    "\n",
    "gradient vanishing이 생기게 된다.  \n",
    "  \n",
    "  그를 방지하기 위해 ReLU( f(x) = max(0, x))를 사용하기로 한다.<br><br>\n",
    "  \n",
    "  torch.nn.relu(x)  \n",
    "  \n",
    "  torch.nn.leaky_relu(x, 0.01) 등..."
   ]
  },
  {
   "cell_type": "markdown",
   "metadata": {},
   "source": [
    "### Optimizer in PyTorch<br><br>\n",
    "\n",
    "pytorch에서 제공하는 optimizers를 모두 어떻게 익혀야 할까?\n"
   ]
  },
  {
   "cell_type": "code",
   "execution_count": 12,
   "metadata": {},
   "outputs": [],
   "source": [
    "import torch\n",
    "import torchvision.datasets as dsets\n",
    "import torchvision.transforms as transforms\n",
    "import random"
   ]
  },
  {
   "cell_type": "code",
   "execution_count": 13,
   "metadata": {},
   "outputs": [
    {
     "data": {
      "text/plain": [
       "<torch._C.Generator at 0x1e5c1873d70>"
      ]
     },
     "execution_count": 13,
     "metadata": {},
     "output_type": "execute_result"
    }
   ],
   "source": [
    "random.seed(777)\n",
    "torch.manual_seed(777)"
   ]
  },
  {
   "cell_type": "markdown",
   "metadata": {},
   "source": [
    "## 단층 구성"
   ]
  },
  {
   "cell_type": "code",
   "execution_count": 14,
   "metadata": {},
   "outputs": [],
   "source": [
    "# parameters\n",
    "learning_rate = 0.001\n",
    "training_epochs = 15\n",
    "batch_size = 100"
   ]
  },
  {
   "cell_type": "code",
   "execution_count": 15,
   "metadata": {},
   "outputs": [],
   "source": [
    "#MNIST dataset download\n",
    "mnist_train = dsets.MNIST(root='MNIST_data/',\n",
    "                          train = True,\n",
    "                          transform=transforms.ToTensor(),\n",
    "                          download=True)\n",
    "mnist_test = dsets.MNIST(root='MNIST_data/',\n",
    "                          train = False,\n",
    "                          transform=transforms.ToTensor(),\n",
    "                          download=True)"
   ]
  },
  {
   "cell_type": "code",
   "execution_count": 16,
   "metadata": {},
   "outputs": [],
   "source": [
    "# dataset loader -> for mini_batch\n",
    "data_loader = torch.utils.data.DataLoader(dataset=mnist_train,\n",
    "                                         batch_size = batch_size,\n",
    "                                         shuffle = True,\n",
    "                                         drop_last = True)\n"
   ]
  },
  {
   "cell_type": "code",
   "execution_count": 17,
   "metadata": {},
   "outputs": [],
   "source": [
    "# MNIST data image of shape 28 * 28 = 784 , output = 0~9\n",
    "linear = torch.nn.Linear(784, 10, bias = True)"
   ]
  },
  {
   "cell_type": "code",
   "execution_count": 18,
   "metadata": {},
   "outputs": [
    {
     "data": {
      "text/plain": [
       "Parameter containing:\n",
       "tensor([[-0.1953, -0.4404,  0.0139,  ...,  0.7510,  1.5190,  0.9637],\n",
       "        [ 0.4146, -1.0660, -0.9969,  ..., -0.3259, -0.2695, -1.3316],\n",
       "        [ 0.2600, -1.1821,  0.0065,  ...,  1.0648, -1.2251,  0.9841],\n",
       "        ...,\n",
       "        [ 0.0279, -1.7242, -1.1723,  ...,  1.3651, -0.0689, -0.7931],\n",
       "        [ 0.0952,  0.1939,  0.1636,  ..., -1.0489,  0.6224, -1.7181],\n",
       "        [ 2.6504,  0.6297, -1.6571,  ..., -0.0781, -1.1398, -0.8711]],\n",
       "       requires_grad=True)"
      ]
     },
     "execution_count": 18,
     "metadata": {},
     "output_type": "execute_result"
    }
   ],
   "source": [
    "# initialization\n",
    "torch.nn.init.normal_(linear.weight)"
   ]
  },
  {
   "cell_type": "code",
   "execution_count": 19,
   "metadata": {},
   "outputs": [],
   "source": [
    "# define cost/loss & optimizer\n",
    "criterion = torch.nn.CrossEntropyLoss() # CEL -> Softmax is internally computed.\n",
    "optimizer = torch.optim.Adam(linear.parameters(), lr=learning_rate) # Adam을 통해 optimization"
   ]
  },
  {
   "cell_type": "code",
   "execution_count": 65,
   "metadata": {},
   "outputs": [
    {
     "name": "stdout",
     "output_type": "stream",
     "text": [
      "Epoch: 0001 Cost = 5.151755810\n",
      "Epoch: 0002 Cost = 1.636840463\n",
      "Epoch: 0003 Cost = 1.084609270\n",
      "Epoch: 0004 Cost = 0.858343899\n",
      "Epoch: 0005 Cost = 0.732708633\n",
      "Epoch: 0006 Cost = 0.651342332\n",
      "Epoch: 0007 Cost = 0.594313323\n",
      "Epoch: 0008 Cost = 0.551631629\n",
      "Epoch: 0009 Cost = 0.518340468\n",
      "Epoch: 0010 Cost = 0.491586238\n",
      "Epoch: 0011 Cost = 0.469289869\n",
      "Epoch: 0012 Cost = 0.450429320\n",
      "Epoch: 0013 Cost = 0.434171110\n",
      "Epoch: 0014 Cost = 0.420358211\n",
      "Epoch: 0015 Cost = 0.407902867\n",
      "Learning finished\n"
     ]
    }
   ],
   "source": [
    "total_batch = len(data_loader)\n",
    "for epoch in range(training_epochs):\n",
    "    avg_cost = 0\n",
    "    \n",
    "    for X, Y in data_loader:\n",
    "        # Reshape input image into [batch_size by 784]\n",
    "        # Label is not one-hot encoded\n",
    "        X = X.view(-1, 28 * 28)\n",
    "        Y = Y\n",
    "    \n",
    "        optimizer.zero_grad()\n",
    "        hypothesis = linear(X)\n",
    "        cost = criterion(hypothesis, Y)\n",
    "        cost.backward()\n",
    "        optimizer.step()\n",
    "    \n",
    "        avg_cost += cost / total_batch\n",
    "    \n",
    "    print('Epoch:', '%04d' % (epoch +1), 'Cost =', '{:.9f}'.format(avg_cost))\n",
    "    \n",
    "print(\"Learning finished\")"
   ]
  },
  {
   "cell_type": "code",
   "execution_count": 66,
   "metadata": {},
   "outputs": [
    {
     "name": "stderr",
     "output_type": "stream",
     "text": [
      "C:\\Users\\JH PARK\\anaconda3\\lib\\site-packages\\torchvision\\datasets\\mnist.py:60: UserWarning: test_data has been renamed data\n",
      "  warnings.warn(\"test_data has been renamed data\")\n",
      "C:\\Users\\JH PARK\\anaconda3\\lib\\site-packages\\torchvision\\datasets\\mnist.py:50: UserWarning: test_labels has been renamed targets\n",
      "  warnings.warn(\"test_labels has been renamed targets\")\n"
     ]
    },
    {
     "name": "stdout",
     "output_type": "stream",
     "text": [
      "Accuracy: 0.9818999767303467\n",
      "Label:  9\n",
      "Prediction:  9\n"
     ]
    }
   ],
   "source": [
    "# Test the model using test sets\n",
    "with torch.no_grad():\n",
    "    X_test = mnist_test.test_data.view(-1, 28 * 28).float()\n",
    "    Y_test = mnist_test.test_labels\n",
    "\n",
    "    prediction = model(X_test)\n",
    "    correct_prediction = torch.argmax(prediction, 1) == Y_test\n",
    "    accuracy = correct_prediction.float().mean()\n",
    "    print('Accuracy:', accuracy.item())\n",
    "\n",
    "    # Get one and predict\n",
    "    r = random.randint(0, len(mnist_test) - 1)\n",
    "    X_single_data = mnist_test.test_data[r:r + 1].view(-1, 28 * 28).float()\n",
    "    Y_single_data = mnist_test.test_labels[r:r + 1]\n",
    "\n",
    "    print('Label: ', Y_single_data.item())\n",
    "    single_prediction = model(X_single_data)\n",
    "    print('Prediction: ', torch.argmax(single_prediction, 1).item())"
   ]
  },
  {
   "cell_type": "markdown",
   "metadata": {},
   "source": [
    "## 3-Layer 구성"
   ]
  },
  {
   "cell_type": "code",
   "execution_count": 16,
   "metadata": {},
   "outputs": [],
   "source": [
    "# parameters\n",
    "learning_rate = 0.001\n",
    "training_epochs = 15\n",
    "batch_size = 100"
   ]
  },
  {
   "cell_type": "code",
   "execution_count": 17,
   "metadata": {},
   "outputs": [],
   "source": [
    "data_loader = torch.utils.data.DataLoader(dataset=mnist_train,\n",
    "                                          batch_size=batch_size,\n",
    "                                          shuffle=True,\n",
    "                                          drop_last=True)"
   ]
  },
  {
   "cell_type": "code",
   "execution_count": 18,
   "metadata": {},
   "outputs": [],
   "source": [
    "# nn layers\n",
    "linear1 = torch.nn.Linear(784, 256, bias=True)\n",
    "linear2 = torch.nn.Linear(256, 256, bias=True)\n",
    "linear3 = torch.nn.Linear(256, 10, bias=True)\n",
    "relu = torch.nn.ReLU()"
   ]
  },
  {
   "cell_type": "code",
   "execution_count": 19,
   "metadata": {},
   "outputs": [
    {
     "data": {
      "text/plain": [
       "Parameter containing:\n",
       "tensor([[-0.5278, -1.3519,  0.5642,  ...,  1.9428, -1.2835, -0.3822],\n",
       "        [ 1.0367, -0.4500,  0.1406,  ...,  0.1321,  1.2034,  0.2417],\n",
       "        [ 1.2971, -1.2299,  1.1202,  ..., -1.1232, -0.3211,  0.9138],\n",
       "        ...,\n",
       "        [-2.7496,  0.0798, -0.3866,  ..., -0.4564, -1.3117, -0.8943],\n",
       "        [ 0.7057, -0.8695,  0.2858,  ..., -0.3788,  0.8571, -0.9284],\n",
       "        [-0.4482,  1.9061, -0.4519,  ...,  0.3278, -1.0181,  0.2806]],\n",
       "       requires_grad=True)"
      ]
     },
     "execution_count": 19,
     "metadata": {},
     "output_type": "execute_result"
    }
   ],
   "source": [
    "# Initialization\n",
    "torch.nn.init.normal_(linear1.weight)\n",
    "torch.nn.init.normal_(linear2.weight)\n",
    "torch.nn.init.normal_(linear3.weight)"
   ]
  },
  {
   "cell_type": "code",
   "execution_count": 21,
   "metadata": {},
   "outputs": [],
   "source": [
    "# model\n",
    "model = torch.nn.Sequential(linear1, relu, linear2, relu, linear3) # 3번째는 CEL을 사용할 것이므로 설정 x"
   ]
  },
  {
   "cell_type": "code",
   "execution_count": 23,
   "metadata": {},
   "outputs": [],
   "source": [
    "# define cost/loss & optimizer\n",
    "criterion = torch.nn.CrossEntropyLoss()   # Softmax is internally computed.\n",
    "optimizer = torch.optim.Adam(model.parameters(), lr=learning_rate)"
   ]
  },
  {
   "cell_type": "code",
   "execution_count": 26,
   "metadata": {},
   "outputs": [
    {
     "name": "stdout",
     "output_type": "stream",
     "text": [
      "Epoch: 0001 cost = 179.461685181\n",
      "Epoch: 0002 cost = 37.951999664\n",
      "Epoch: 0003 cost = 23.810924530\n",
      "Epoch: 0004 cost = 16.450050354\n",
      "Epoch: 0005 cost = 11.947896957\n",
      "Epoch: 0006 cost = 8.710197449\n",
      "Epoch: 0007 cost = 6.542108059\n",
      "Epoch: 0008 cost = 4.934839725\n",
      "Epoch: 0009 cost = 3.681132078\n",
      "Epoch: 0010 cost = 2.780344725\n",
      "Epoch: 0011 cost = 1.994268298\n",
      "Epoch: 0012 cost = 1.584544778\n",
      "Epoch: 0013 cost = 1.166052699\n",
      "Epoch: 0014 cost = 0.890817463\n",
      "Epoch: 0015 cost = 0.740841866\n",
      "Learning finished\n"
     ]
    }
   ],
   "source": [
    "total_batch = len(data_loader)\n",
    "for epoch in range(training_epochs):\n",
    "    avg_cost = 0\n",
    "\n",
    "    for X, Y in data_loader:\n",
    "        # reshape input image into [batch_size by 784]\n",
    "        # label is not one-hot encoded\n",
    "        X = X.view(-1, 28 * 28)\n",
    "        Y = Y\n",
    "\n",
    "        optimizer.zero_grad()\n",
    "        hypothesis = model(X)\n",
    "        cost = criterion(hypothesis, Y)\n",
    "        cost.backward()\n",
    "        optimizer.step()\n",
    "\n",
    "        avg_cost += cost / total_batch\n",
    "\n",
    "    print('Epoch:', '%04d' % (epoch + 1), 'cost =', '{:.9f}'.format(avg_cost))\n",
    "\n",
    "print('Learning finished')"
   ]
  },
  {
   "cell_type": "code",
   "execution_count": 28,
   "metadata": {},
   "outputs": [
    {
     "name": "stderr",
     "output_type": "stream",
     "text": [
      "C:\\Users\\JH PARK\\anaconda3\\lib\\site-packages\\torchvision\\datasets\\mnist.py:50: UserWarning: test_labels has been renamed targets\n",
      "  warnings.warn(\"test_labels has been renamed targets\")\n"
     ]
    },
    {
     "name": "stdout",
     "output_type": "stream",
     "text": [
      "Accuracy: 0.9466000199317932\n",
      "Label:  8\n",
      "Prediction:  8\n"
     ]
    }
   ],
   "source": [
    "# Test the model using test sets\n",
    "with torch.no_grad():\n",
    "    X_test = mnist_test.test_data.view(-1, 28 * 28).float()\n",
    "    Y_test = mnist_test.test_labels\n",
    "\n",
    "    prediction = model(X_test)\n",
    "    correct_prediction = torch.argmax(prediction, 1) == Y_test\n",
    "    accuracy = correct_prediction.float().mean()\n",
    "    print('Accuracy:', accuracy.item())\n",
    "\n",
    "    # Get one and predict\n",
    "    r = random.randint(0, len(mnist_test) - 1)\n",
    "    X_single_data = mnist_test.test_data[r:r + 1].view(-1, 28 * 28).float()\n",
    "    Y_single_data = mnist_test.test_labels[r:r + 1]\n",
    "\n",
    "    print('Label: ', Y_single_data.item())\n",
    "    single_prediction = model(X_single_data)\n",
    "    print('Prediction: ', torch.argmax(single_prediction, 1).item())"
   ]
  },
  {
   "cell_type": "markdown",
   "metadata": {},
   "source": [
    "### Weight Initialization (with Xavier)<br><br>\n",
    "RBM Initialization -> pre-training step을 사용  \n",
    "Example : Deep Belif Network 확인"
   ]
  },
  {
   "cell_type": "markdown",
   "metadata": {},
   "source": [
    "![image.png](./img/09_xavier.png)"
   ]
  },
  {
   "cell_type": "code",
   "execution_count": 43,
   "metadata": {},
   "outputs": [
    {
     "data": {
      "text/plain": [
       "'\\ndef _calculate_fan_in_and_fan_out(tensor):\\n    dimensions = tensor.dim()\\n    if dimensions < 2:\\n        raise ValueError(\"Fan in and fan out can not be computed for tensor with fewer than 2 dimensions\")\\n\\n    num_input_fmaps = tensor.size(1)\\n    num_output_fmaps = tensor.size(0)\\n    receptive_field_size = 1\\n    if tensor.dim() > 2:\\n        receptive_field_size = tensor[0][0].numel()\\n    fan_in = num_input_fmaps * receptive_field_size\\n    fan_out = num_output_fmaps * receptive_field_size\\n\\n    return fan_in, fan_out\\n\\n\\ndef xavier_uniform_(tensor, gain=1.):\\n    # type: (Tensor, float) -> Tensor\\n    r\"\"\"Fills the input `Tensor` with values according to the method\\n    described in `Understanding the difficulty of training deep feedforward\\n    neural networks` - Glorot, X. & Bengio, Y. (2010), using a uniform\\n    distribution. The resulting tensor will have values sampled from\\n    :math:`\\\\mathcal{U}(-a, a)` where\\n    .. math::\\n        a = \\text{gain} \\times \\\\sqrt{\\x0crac{6}{\\text{fan\\\\_in} + \\text{fan\\\\_out}}}\\n    Also known as Glorot initialization.\\n    Args:\\n        tensor: an n-dimensional `torch.Tensor`\\n        gain: an optional scaling factor\\n    Examples:\\n        >>> w = torch.empty(3, 5)\\n        >>> nn.init.xavier_uniform_(w, gain=nn.init.calculate_gain(\\'relu\\'))\\n    \"\"\"\\n    fan_in, fan_out = _calculate_fan_in_and_fan_out(tensor)\\n    std = gain * math.sqrt(2.0 / float(fan_in + fan_out))\\n    a = math.sqrt(3.0) * std  # Calculate uniform bounds from standard deviation\\n\\n    return _no_grad_uniform_(tensor, -a, a)\\n\\n\\ndef xavier_normal_(tensor, gain=1.):\\n    # type: (Tensor, float) -> Tensor\\n    r\"\"\"Fills the input `Tensor` with values according to the method\\n    described in `Understanding the difficulty of training deep feedforward\\n    neural networks` - Glorot, X. & Bengio, Y. (2010), using a normal\\n    distribution. The resulting tensor will have values sampled from\\n    :math:`\\\\mathcal{N}(0, \\text{std}^2)` where\\n    .. math::\\n        \\text{std} = \\text{gain} \\times \\\\sqrt{\\x0crac{2}{\\text{fan\\\\_in} + \\text{fan\\\\_out}}}\\n    Also known as Glorot initialization.\\n    Args:\\n        tensor: an n-dimensional `torch.Tensor`\\n        gain: an optional scaling factor\\n    Examples:\\n        >>> w = torch.empty(3, 5)\\n        >>> nn.init.xavier_normal_(w)\\n    \"\"\"\\n    fan_in, fan_out = _calculate_fan_in_and_fan_out(tensor)\\n    std = gain * math.sqrt(2.0 / float(fan_in + fan_out))\\n\\n    return _no_grad_normal_(tensor, 0., std)\\n'"
      ]
     },
     "execution_count": 43,
     "metadata": {},
     "output_type": "execute_result"
    }
   ],
   "source": [
    "# Xavier in PyTorch Library\n",
    "'''\n",
    "def _calculate_fan_in_and_fan_out(tensor):\n",
    "    dimensions = tensor.dim()\n",
    "    if dimensions < 2:\n",
    "        raise ValueError(\"Fan in and fan out can not be computed for tensor with fewer than 2 dimensions\")\n",
    "\n",
    "    num_input_fmaps = tensor.size(1)\n",
    "    num_output_fmaps = tensor.size(0)\n",
    "    receptive_field_size = 1\n",
    "    if tensor.dim() > 2:\n",
    "        receptive_field_size = tensor[0][0].numel()\n",
    "    fan_in = num_input_fmaps * receptive_field_size\n",
    "    fan_out = num_output_fmaps * receptive_field_size\n",
    "\n",
    "    return fan_in, fan_out\n",
    "\n",
    "\n",
    "def xavier_uniform_(tensor, gain=1.):\n",
    "    # type: (Tensor, float) -> Tensor\n",
    "    r\"\"\"Fills the input `Tensor` with values according to the method\n",
    "    described in `Understanding the difficulty of training deep feedforward\n",
    "    neural networks` - Glorot, X. & Bengio, Y. (2010), using a uniform\n",
    "    distribution. The resulting tensor will have values sampled from\n",
    "    :math:`\\mathcal{U}(-a, a)` where\n",
    "    .. math::\n",
    "        a = \\text{gain} \\times \\sqrt{\\frac{6}{\\text{fan\\_in} + \\text{fan\\_out}}}\n",
    "    Also known as Glorot initialization.\n",
    "    Args:\n",
    "        tensor: an n-dimensional `torch.Tensor`\n",
    "        gain: an optional scaling factor\n",
    "    Examples:\n",
    "        >>> w = torch.empty(3, 5)\n",
    "        >>> nn.init.xavier_uniform_(w, gain=nn.init.calculate_gain('relu'))\n",
    "    \"\"\"\n",
    "    fan_in, fan_out = _calculate_fan_in_and_fan_out(tensor)\n",
    "    std = gain * math.sqrt(2.0 / float(fan_in + fan_out))\n",
    "    a = math.sqrt(3.0) * std  # Calculate uniform bounds from standard deviation\n",
    "\n",
    "    return _no_grad_uniform_(tensor, -a, a)\n",
    "\n",
    "\n",
    "def xavier_normal_(tensor, gain=1.):\n",
    "    # type: (Tensor, float) -> Tensor\n",
    "    r\"\"\"Fills the input `Tensor` with values according to the method\n",
    "    described in `Understanding the difficulty of training deep feedforward\n",
    "    neural networks` - Glorot, X. & Bengio, Y. (2010), using a normal\n",
    "    distribution. The resulting tensor will have values sampled from\n",
    "    :math:`\\mathcal{N}(0, \\text{std}^2)` where\n",
    "    .. math::\n",
    "        \\text{std} = \\text{gain} \\times \\sqrt{\\frac{2}{\\text{fan\\_in} + \\text{fan\\_out}}}\n",
    "    Also known as Glorot initialization.\n",
    "    Args:\n",
    "        tensor: an n-dimensional `torch.Tensor`\n",
    "        gain: an optional scaling factor\n",
    "    Examples:\n",
    "        >>> w = torch.empty(3, 5)\n",
    "        >>> nn.init.xavier_normal_(w)\n",
    "    \"\"\"\n",
    "    fan_in, fan_out = _calculate_fan_in_and_fan_out(tensor)\n",
    "    std = gain * math.sqrt(2.0 / float(fan_in + fan_out))\n",
    "\n",
    "    return _no_grad_normal_(tensor, 0., std)\n",
    "'''"
   ]
  },
  {
   "cell_type": "code",
   "execution_count": 32,
   "metadata": {},
   "outputs": [],
   "source": [
    "# dataset loader\n",
    "data_loader = torch.utils.data.DataLoader(dataset=mnist_train,\n",
    "                                          batch_size=batch_size,\n",
    "                                          shuffle=True,\n",
    "                                          drop_last=True)"
   ]
  },
  {
   "cell_type": "code",
   "execution_count": 34,
   "metadata": {},
   "outputs": [],
   "source": [
    "# nn layers\n",
    "linear1 = torch.nn.Linear(784, 256, bias=True)\n",
    "linear2 = torch.nn.Linear(256, 256, bias=True)\n",
    "linear3 = torch.nn.Linear(256, 10, bias=True)\n",
    "relu = torch.nn.ReLU()"
   ]
  },
  {
   "cell_type": "code",
   "execution_count": 35,
   "metadata": {},
   "outputs": [
    {
     "data": {
      "text/plain": [
       "Parameter containing:\n",
       "tensor([[-0.0033,  0.0786,  0.1367,  ...,  0.0532, -0.0361,  0.0356],\n",
       "        [ 0.0128, -0.1233, -0.1467,  ...,  0.1217, -0.0690, -0.0701],\n",
       "        [ 0.1249, -0.0924,  0.1501,  ...,  0.1253, -0.0222,  0.0065],\n",
       "        ...,\n",
       "        [ 0.0222, -0.1242,  0.1240,  ...,  0.0843,  0.0381, -0.0557],\n",
       "        [ 0.0152,  0.0937, -0.1405,  ...,  0.1395, -0.1210, -0.0901],\n",
       "        [-0.0906, -0.0648, -0.1269,  ..., -0.0432, -0.1251,  0.0235]],\n",
       "       requires_grad=True)"
      ]
     },
     "execution_count": 35,
     "metadata": {},
     "output_type": "execute_result"
    }
   ],
   "source": [
    "# xavier initialization\n",
    "torch.nn.init.xavier_uniform_(linear1.weight)\n",
    "torch.nn.init.xavier_uniform_(linear2.weight)\n",
    "torch.nn.init.xavier_uniform_(linear3.weight)"
   ]
  },
  {
   "cell_type": "code",
   "execution_count": 37,
   "metadata": {},
   "outputs": [],
   "source": [
    "# model\n",
    "model = torch.nn.Sequential(linear1, relu, linear2, relu, linear3)"
   ]
  },
  {
   "cell_type": "code",
   "execution_count": 39,
   "metadata": {},
   "outputs": [],
   "source": [
    "# define cost/loss & optimizer\n",
    "criterion = torch.nn.CrossEntropyLoss()   # Softmax is internally computed.\n",
    "optimizer = torch.optim.Adam(model.parameters(), lr=learning_rate)"
   ]
  },
  {
   "cell_type": "code",
   "execution_count": 41,
   "metadata": {},
   "outputs": [
    {
     "name": "stdout",
     "output_type": "stream",
     "text": [
      "Epoch: 0001 cost = 0.240819514\n",
      "Epoch: 0002 cost = 0.090440504\n",
      "Epoch: 0003 cost = 0.061061218\n",
      "Epoch: 0004 cost = 0.042703390\n",
      "Epoch: 0005 cost = 0.032572050\n",
      "Epoch: 0006 cost = 0.027103337\n",
      "Epoch: 0007 cost = 0.020051045\n",
      "Epoch: 0008 cost = 0.017372213\n",
      "Epoch: 0009 cost = 0.015832329\n",
      "Epoch: 0010 cost = 0.011393580\n",
      "Epoch: 0011 cost = 0.014805009\n",
      "Epoch: 0012 cost = 0.009550594\n",
      "Epoch: 0013 cost = 0.011380431\n",
      "Epoch: 0014 cost = 0.009704247\n",
      "Epoch: 0015 cost = 0.010509749\n",
      "Learning finished\n"
     ]
    }
   ],
   "source": [
    "total_batch = len(data_loader)\n",
    "for epoch in range(training_epochs):\n",
    "    avg_cost = 0\n",
    "\n",
    "    for X, Y in data_loader:\n",
    "        # reshape input image into [batch_size by 784]\n",
    "        # label is not one-hot encoded\n",
    "        X = X.view(-1, 28 * 28)\n",
    "        Y = Y\n",
    "\n",
    "        optimizer.zero_grad()\n",
    "        hypothesis = model(X)\n",
    "        cost = criterion(hypothesis, Y)\n",
    "        cost.backward()\n",
    "        optimizer.step()\n",
    "\n",
    "        avg_cost += cost / total_batch\n",
    "\n",
    "    print('Epoch:', '%04d' % (epoch + 1), 'cost =', '{:.9f}'.format(avg_cost))\n",
    "\n",
    "print('Learning finished')"
   ]
  },
  {
   "cell_type": "code",
   "execution_count": 42,
   "metadata": {},
   "outputs": [
    {
     "name": "stdout",
     "output_type": "stream",
     "text": [
      "Accuracy: 0.9797000288963318\n",
      "Label:  5\n",
      "Prediction:  5\n"
     ]
    }
   ],
   "source": [
    "# Test the model using test sets\n",
    "with torch.no_grad():\n",
    "    X_test = mnist_test.test_data.view(-1, 28 * 28).float()\n",
    "    Y_test = mnist_test.test_labels\n",
    "\n",
    "    prediction = model(X_test)\n",
    "    correct_prediction = torch.argmax(prediction, 1) == Y_test\n",
    "    accuracy = correct_prediction.float().mean()\n",
    "    print('Accuracy:', accuracy.item())\n",
    "\n",
    "    # Get one and predict\n",
    "    r = random.randint(0, len(mnist_test) - 1)\n",
    "    X_single_data = mnist_test.test_data[r:r + 1].view(-1, 28 * 28).float()\n",
    "    Y_single_data = mnist_test.test_labels[r:r + 1]\n",
    "\n",
    "    print('Label: ', Y_single_data.item())\n",
    "    single_prediction = model(X_single_data)\n",
    "    print('Prediction: ', torch.argmax(single_prediction, 1).item())"
   ]
  },
  {
   "cell_type": "markdown",
   "metadata": {},
   "source": [
    "# Overfitting"
   ]
  },
  {
   "cell_type": "markdown",
   "metadata": {},
   "source": [
    "Overfitting을 줄이기 위한 방법\n",
    "* More data \n",
    "* Reduce the numbber of features\n",
    "* Regularization\n",
    "* Dropout"
   ]
  },
  {
   "cell_type": "markdown",
   "metadata": {},
   "source": [
    "#### Dropout<br><br>\n",
    "\n",
    "Neural Network 학습 중 각 Layer의 몇몇 Node를(설정한 비율만큼) 무작위로 on/off 하며 학습 "
   ]
  },
  {
   "cell_type": "code",
   "execution_count": 45,
   "metadata": {},
   "outputs": [
    {
     "data": {
      "text/plain": [
       "Parameter containing:\n",
       "tensor([[ 0.0415,  0.1060, -0.0156,  ..., -0.0302,  0.0363,  0.0635],\n",
       "        [-0.0865,  0.0946, -0.0808,  ...,  0.0386,  0.0351,  0.0722],\n",
       "        [-0.0165, -0.0747, -0.0002,  ...,  0.0190,  0.0345,  0.0454],\n",
       "        ...,\n",
       "        [-0.0561, -0.0491,  0.0819,  ..., -0.0829,  0.0920,  0.0317],\n",
       "        [ 0.0114, -0.1032, -0.0831,  ..., -0.0366, -0.0950,  0.0080],\n",
       "        [ 0.0169,  0.0397, -0.1043,  ...,  0.0018,  0.0408, -0.1002]],\n",
       "       requires_grad=True)"
      ]
     },
     "execution_count": 45,
     "metadata": {},
     "output_type": "execute_result"
    }
   ],
   "source": [
    "# parameters\n",
    "learning_rate = 0.001\n",
    "training_epochs = 15\n",
    "batch_size = 100\n",
    "drop_prob = 0.3\n",
    "\n",
    "# MNIST dataset\n",
    "mnist_train = dsets.MNIST(root='MNIST_data/',\n",
    "                          train=True,\n",
    "                          transform=transforms.ToTensor(),\n",
    "                          download=True)\n",
    "\n",
    "mnist_test = dsets.MNIST(root='MNIST_data/',\n",
    "                         train=False,\n",
    "                         transform=transforms.ToTensor(),\n",
    "                         download=True)\n",
    "\n",
    "\n",
    "# dataset loader\n",
    "data_loader = torch.utils.data.DataLoader(dataset=mnist_train,\n",
    "                                          batch_size=batch_size,\n",
    "                                          shuffle=True,\n",
    "                                          drop_last=True)\n",
    "\n",
    "# nn layers\n",
    "linear1 = torch.nn.Linear(784, 512, bias=True)\n",
    "linear2 = torch.nn.Linear(512, 512, bias=True)\n",
    "linear3 = torch.nn.Linear(512, 512, bias=True)\n",
    "linear4 = torch.nn.Linear(512, 512, bias=True)\n",
    "linear5 = torch.nn.Linear(512, 10, bias=True)\n",
    "relu = torch.nn.ReLU()\n",
    "# nn Dropout 사용 p 는 drpo할 확률을 말한다.\n",
    "dropout = torch.nn.Dropout(p=drop_prob)\n",
    "\n",
    "# xavier initialization\n",
    "torch.nn.init.xavier_uniform_(linear1.weight)\n",
    "torch.nn.init.xavier_uniform_(linear2.weight)\n",
    "torch.nn.init.xavier_uniform_(linear3.weight)\n",
    "torch.nn.init.xavier_uniform_(linear4.weight)\n",
    "torch.nn.init.xavier_uniform_(linear5.weight)\n"
   ]
  },
  {
   "cell_type": "code",
   "execution_count": 47,
   "metadata": {},
   "outputs": [],
   "source": [
    "# model - 각각 Dropout을 추가한다.\n",
    "model = torch.nn.Sequential(linear1, relu, dropout,\n",
    "                            linear2, relu, dropout,\n",
    "                            linear3, relu, dropout,\n",
    "                            linear4, relu, dropout,\n",
    "                            linear5)\n",
    "\n",
    "# define cost/loss & optimizer\n",
    "criterion = torch.nn.CrossEntropyLoss()    # Softmax is internally computed.\n",
    "optimizer = torch.optim.Adam(model.parameters(), lr=learning_rate)"
   ]
  },
  {
   "cell_type": "code",
   "execution_count": 48,
   "metadata": {},
   "outputs": [
    {
     "name": "stdout",
     "output_type": "stream",
     "text": [
      "Epoch: 0001 cost = 0.310249388\n",
      "Epoch: 0002 cost = 0.144120649\n",
      "Epoch: 0003 cost = 0.113168664\n",
      "Epoch: 0004 cost = 0.095587030\n",
      "Epoch: 0005 cost = 0.085564725\n",
      "Epoch: 0006 cost = 0.074818723\n",
      "Epoch: 0007 cost = 0.065905750\n",
      "Epoch: 0008 cost = 0.062320158\n",
      "Epoch: 0009 cost = 0.057608906\n",
      "Epoch: 0010 cost = 0.057351172\n",
      "Epoch: 0011 cost = 0.053665176\n",
      "Epoch: 0012 cost = 0.050852511\n",
      "Epoch: 0013 cost = 0.046929371\n",
      "Epoch: 0014 cost = 0.045090009\n",
      "Epoch: 0015 cost = 0.041312795\n",
      "Learning finished\n"
     ]
    }
   ],
   "source": [
    "total_batch = len(data_loader)\n",
    "model.train()    # 중요! set the model to train mode (dropout=True)\n",
    "for epoch in range(training_epochs):\n",
    "    avg_cost = 0\n",
    "\n",
    "    for X, Y in data_loader:\n",
    "        # reshape input image into [batch_size by 784]\n",
    "        # label is not one-hot encoded\n",
    "        X = X.view(-1, 28 * 28)\n",
    "        Y = Y\n",
    "\n",
    "        optimizer.zero_grad()\n",
    "        hypothesis = model(X)\n",
    "        cost = criterion(hypothesis, Y)\n",
    "        cost.backward()\n",
    "        optimizer.step()\n",
    "\n",
    "        avg_cost += cost / total_batch\n",
    "\n",
    "    print('Epoch:', '%04d' % (epoch + 1), 'cost =', '{:.9f}'.format(avg_cost))\n",
    "\n",
    "print('Learning finished')"
   ]
  },
  {
   "cell_type": "code",
   "execution_count": 49,
   "metadata": {},
   "outputs": [
    {
     "name": "stdout",
     "output_type": "stream",
     "text": [
      "Accuracy: 0.9818999767303467\n",
      "Label:  7\n",
      "Prediction:  7\n"
     ]
    }
   ],
   "source": [
    "# Test model and check accuracy\n",
    "with torch.no_grad():\n",
    "    model.eval()    # 중요! set the model to evaluation mode (dropout=False)\n",
    "\n",
    "    # Test the model using test sets\n",
    "    X_test = mnist_test.test_data.view(-1, 28 * 28).float()\n",
    "    Y_test = mnist_test.test_labels\n",
    "\n",
    "    prediction = model(X_test)\n",
    "    correct_prediction = torch.argmax(prediction, 1) == Y_test\n",
    "    accuracy = correct_prediction.float().mean()\n",
    "    print('Accuracy:', accuracy.item())\n",
    "\n",
    "    # Get one and predict\n",
    "    r = random.randint(0, len(mnist_test) - 1)\n",
    "    X_single_data = mnist_test.test_data[r:r + 1].view(-1, 28 * 28).float()\n",
    "    Y_single_data = mnist_test.test_labels[r:r + 1]\n",
    "\n",
    "    print('Label: ', Y_single_data.item())\n",
    "    single_prediction = model(X_single_data)\n",
    "    print('Prediction: ', torch.argmax(single_prediction, 1).item())"
   ]
  },
  {
   "cell_type": "markdown",
   "metadata": {},
   "source": [
    "## Gradient Vanishing & Exploding"
   ]
  },
  {
   "cell_type": "markdown",
   "metadata": {},
   "source": [
    "Grad가 너무 크거나 작으면 생기는 문제들.  \n"
   ]
  },
  {
   "cell_type": "markdown",
   "metadata": {},
   "source": [
    "#### Solutions<br><br>\n",
    "간접적으로...\n",
    "* Change activation function\n",
    "* Careful initialization\n",
    "* Small learning rate<br>  \n",
    "\n",
    "직접적으로...  \n",
    "* Batch Normalization"
   ]
  },
  {
   "cell_type": "markdown",
   "metadata": {},
   "source": [
    "#### Internal Covariate Shift<br><br>\n",
    "\n",
    "Trainset과 Testset의 분포에 차이가 존재함을 의미\n",
    "\n",
    "이는 Training시 Layer를 지나감에 따라 Input과 output의 cov shift가 발생.\n",
    "\n",
    "이는 layer들간의 shift가 일어나고 이는 층이 많아질수록 점점 더 깊어진다.<br><br>\n",
    "\n",
    "각 Layer(batch)마다 Normalization을 통해 Shift를 방지하겠다.\n"
   ]
  },
  {
   "cell_type": "markdown",
   "metadata": {},
   "source": [
    "![image.png](./img/09_batchnorm.png)"
   ]
  },
  {
   "cell_type": "code",
   "execution_count": 50,
   "metadata": {},
   "outputs": [],
   "source": [
    "import matplotlib.pylab as plt"
   ]
  },
  {
   "cell_type": "code",
   "execution_count": 51,
   "metadata": {},
   "outputs": [],
   "source": [
    "# parameters\n",
    "learning_rate = 0.001\n",
    "training_epochs = 10\n",
    "batch_size = 32\n",
    "\n",
    "# MNIST dataset\n",
    "mnist_train = dsets.MNIST(root='MNIST_data/',\n",
    "                          train=True,\n",
    "                          transform=transforms.ToTensor(),\n",
    "                          download=True)\n",
    "\n",
    "mnist_test = dsets.MNIST(root='MNIST_data/',\n",
    "                         train=False,\n",
    "                         transform=transforms.ToTensor(),\n",
    "                         download=True)\n",
    "\n",
    "\n",
    "# dataset loader\n",
    "train_loader = torch.utils.data.DataLoader(dataset=mnist_train,\n",
    "                                          batch_size=batch_size,\n",
    "                                          shuffle=True,\n",
    "                                          drop_last=True)\n",
    "\n",
    "test_loader = torch.utils.data.DataLoader(dataset=mnist_test,\n",
    "                                          batch_size=batch_size,\n",
    "                                          shuffle=False,\n",
    "                                          drop_last=True)\n",
    "\n",
    "\n",
    "# nn layers\n",
    "linear1 = torch.nn.Linear(784, 32, bias=True)\n",
    "linear2 = torch.nn.Linear(32, 32, bias=True)\n",
    "linear3 = torch.nn.Linear(32, 10, bias=True)\n",
    "relu = torch.nn.ReLU()\n",
    "bn1 = torch.nn.BatchNorm1d(32)\n",
    "bn2 = torch.nn.BatchNorm1d(32)\n",
    "\n",
    "nn_linear1 = torch.nn.Linear(784, 32, bias=True)\n",
    "nn_linear2 = torch.nn.Linear(32, 32, bias=True)\n",
    "nn_linear3 = torch.nn.Linear(32, 10, bias=True)\n"
   ]
  },
  {
   "cell_type": "code",
   "execution_count": 53,
   "metadata": {},
   "outputs": [],
   "source": [
    "# model\n",
    "bn_model = torch.nn.Sequential(linear1, bn1, relu,\n",
    "                            linear2, bn2, relu,\n",
    "                            linear3)\n",
    "nn_model = torch.nn.Sequential(nn_linear1, relu,\n",
    "                               nn_linear2, relu,\n",
    "                               nn_linear3)\n",
    "# define cost/loss & optimizer\n",
    "criterion = torch.nn.CrossEntropyLoss()    # Softmax is internally computed.\n",
    "bn_optimizer = torch.optim.Adam(bn_model.parameters(), lr=learning_rate)\n",
    "nn_optimizer = torch.optim.Adam(nn_model.parameters(), lr=learning_rate)"
   ]
  },
  {
   "cell_type": "code",
   "execution_count": 56,
   "metadata": {},
   "outputs": [
    {
     "name": "stdout",
     "output_type": "stream",
     "text": [
      "[Epoch 1-TRAIN] Batchnorm Loss(Acc): bn_loss:0.13119(bn_acc:0.96) vs No Batchnorm Loss(Acc): nn_loss:0.20106(nn_acc:0.94)\n",
      "[Epoch 1-VALID] Batchnorm Loss(Acc): bn_loss:0.15103(bn_acc:0.96) vs No Batchnorm Loss(Acc): nn_loss:0.19917(nn_acc:0.94)\n",
      "\n",
      "[Epoch 2-TRAIN] Batchnorm Loss(Acc): bn_loss:0.09917(bn_acc:0.97) vs No Batchnorm Loss(Acc): nn_loss:0.14797(nn_acc:0.96)\n",
      "[Epoch 2-VALID] Batchnorm Loss(Acc): bn_loss:0.12289(bn_acc:0.96) vs No Batchnorm Loss(Acc): nn_loss:0.15639(nn_acc:0.95)\n",
      "\n",
      "[Epoch 3-TRAIN] Batchnorm Loss(Acc): bn_loss:0.07740(bn_acc:0.98) vs No Batchnorm Loss(Acc): nn_loss:0.12067(nn_acc:0.96)\n",
      "[Epoch 3-VALID] Batchnorm Loss(Acc): bn_loss:0.10463(bn_acc:0.97) vs No Batchnorm Loss(Acc): nn_loss:0.13234(nn_acc:0.96)\n",
      "\n",
      "[Epoch 4-TRAIN] Batchnorm Loss(Acc): bn_loss:0.06729(bn_acc:0.98) vs No Batchnorm Loss(Acc): nn_loss:0.10728(nn_acc:0.97)\n",
      "[Epoch 4-VALID] Batchnorm Loss(Acc): bn_loss:0.10428(bn_acc:0.97) vs No Batchnorm Loss(Acc): nn_loss:0.13384(nn_acc:0.96)\n",
      "\n",
      "[Epoch 5-TRAIN] Batchnorm Loss(Acc): bn_loss:0.06499(bn_acc:0.98) vs No Batchnorm Loss(Acc): nn_loss:0.08215(nn_acc:0.98)\n",
      "[Epoch 5-VALID] Batchnorm Loss(Acc): bn_loss:0.09628(bn_acc:0.97) vs No Batchnorm Loss(Acc): nn_loss:0.10910(nn_acc:0.97)\n",
      "\n",
      "[Epoch 6-TRAIN] Batchnorm Loss(Acc): bn_loss:0.05497(bn_acc:0.98) vs No Batchnorm Loss(Acc): nn_loss:0.07844(nn_acc:0.98)\n",
      "[Epoch 6-VALID] Batchnorm Loss(Acc): bn_loss:0.09465(bn_acc:0.97) vs No Batchnorm Loss(Acc): nn_loss:0.11586(nn_acc:0.96)\n",
      "\n",
      "[Epoch 7-TRAIN] Batchnorm Loss(Acc): bn_loss:0.05127(bn_acc:0.98) vs No Batchnorm Loss(Acc): nn_loss:0.07094(nn_acc:0.98)\n",
      "[Epoch 7-VALID] Batchnorm Loss(Acc): bn_loss:0.09524(bn_acc:0.97) vs No Batchnorm Loss(Acc): nn_loss:0.11212(nn_acc:0.97)\n",
      "\n",
      "[Epoch 8-TRAIN] Batchnorm Loss(Acc): bn_loss:0.04801(bn_acc:0.99) vs No Batchnorm Loss(Acc): nn_loss:0.07846(nn_acc:0.97)\n",
      "[Epoch 8-VALID] Batchnorm Loss(Acc): bn_loss:0.09065(bn_acc:0.97) vs No Batchnorm Loss(Acc): nn_loss:0.12318(nn_acc:0.96)\n",
      "\n",
      "[Epoch 9-TRAIN] Batchnorm Loss(Acc): bn_loss:0.04681(bn_acc:0.99) vs No Batchnorm Loss(Acc): nn_loss:0.06006(nn_acc:0.98)\n",
      "[Epoch 9-VALID] Batchnorm Loss(Acc): bn_loss:0.09350(bn_acc:0.97) vs No Batchnorm Loss(Acc): nn_loss:0.10931(nn_acc:0.97)\n",
      "\n",
      "[Epoch 10-TRAIN] Batchnorm Loss(Acc): bn_loss:0.04605(bn_acc:0.99) vs No Batchnorm Loss(Acc): nn_loss:0.06337(nn_acc:0.98)\n",
      "[Epoch 10-VALID] Batchnorm Loss(Acc): bn_loss:0.09412(bn_acc:0.97) vs No Batchnorm Loss(Acc): nn_loss:0.11976(nn_acc:0.97)\n",
      "\n",
      "Learning finished\n"
     ]
    }
   ],
   "source": [
    "# Save Losses and Accuracies every epoch\n",
    "# We are going to plot them later\n",
    "# 일반과 Batch Norm을 사용한 두가지를 모두 학습하고 둘을 비교한다.\n",
    "train_losses = []\n",
    "train_accs = []\n",
    "\n",
    "valid_losses = []\n",
    "valid_accs = []\n",
    "\n",
    "train_total_batch = len(train_loader)\n",
    "test_total_batch = len(test_loader)\n",
    "for epoch in range(training_epochs):\n",
    "    bn_model.train()  # 중요! set the model to train mode\n",
    "\n",
    "    for X, Y in train_loader:\n",
    "        # reshape input image into [batch_size by 784]\n",
    "        # label is not one-hot encoded\n",
    "        X = X.view(-1, 28 * 28)\n",
    "        Y = Y\n",
    "\n",
    "        bn_optimizer.zero_grad()\n",
    "        bn_prediction = bn_model(X)\n",
    "        bn_loss = criterion(bn_prediction, Y)\n",
    "        bn_loss.backward()\n",
    "        bn_optimizer.step()\n",
    "\n",
    "        nn_optimizer.zero_grad()\n",
    "        nn_prediction = nn_model(X)\n",
    "        nn_loss = criterion(nn_prediction, Y)\n",
    "        nn_loss.backward()\n",
    "        nn_optimizer.step()\n",
    "\n",
    "    with torch.no_grad():\n",
    "        bn_model.eval()     # set the model to evaluation mode\n",
    "\n",
    "        # Test the model using train sets\n",
    "        bn_loss, nn_loss, bn_acc, nn_acc = 0, 0, 0, 0\n",
    "        for i, (X, Y) in enumerate(train_loader):\n",
    "            X = X.view(-1, 28 * 28)\n",
    "            Y = Y\n",
    "\n",
    "            bn_prediction = bn_model(X)\n",
    "            bn_correct_prediction = torch.argmax(bn_prediction, 1) == Y\n",
    "            bn_loss += criterion(bn_prediction, Y)\n",
    "            bn_acc += bn_correct_prediction.float().mean()\n",
    "\n",
    "            nn_prediction = nn_model(X)\n",
    "            nn_correct_prediction = torch.argmax(nn_prediction, 1) == Y\n",
    "            nn_loss += criterion(nn_prediction, Y)\n",
    "            nn_acc += nn_correct_prediction.float().mean()\n",
    "\n",
    "        bn_loss, nn_loss, bn_acc, nn_acc = bn_loss / train_total_batch, nn_loss / train_total_batch, bn_acc / train_total_batch, nn_acc / train_total_batch\n",
    "\n",
    "        # Save train losses/acc\n",
    "        train_losses.append([bn_loss, nn_loss])\n",
    "        train_accs.append([bn_acc, nn_acc])\n",
    "        print(\n",
    "            '[Epoch %d-TRAIN] Batchnorm Loss(Acc): bn_loss:%.5f(bn_acc:%.2f) vs No Batchnorm Loss(Acc): nn_loss:%.5f(nn_acc:%.2f)' % (\n",
    "            (epoch + 1), bn_loss.item(), bn_acc.item(), nn_loss.item(), nn_acc.item()))\n",
    "        # Test the model using test sets\n",
    "        bn_loss, nn_loss, bn_acc, nn_acc = 0, 0, 0, 0\n",
    "        for i, (X, Y) in enumerate(test_loader):\n",
    "            X = X.view(-1, 28 * 28)\n",
    "            Y = Y\n",
    "\n",
    "            bn_prediction = bn_model(X)\n",
    "            bn_correct_prediction = torch.argmax(bn_prediction, 1) == Y\n",
    "            bn_loss += criterion(bn_prediction, Y)\n",
    "            bn_acc += bn_correct_prediction.float().mean()\n",
    "\n",
    "            nn_prediction = nn_model(X)\n",
    "            nn_correct_prediction = torch.argmax(nn_prediction, 1) == Y\n",
    "            nn_loss += criterion(nn_prediction, Y)\n",
    "            nn_acc += nn_correct_prediction.float().mean()\n",
    "\n",
    "        bn_loss, nn_loss, bn_acc, nn_acc = bn_loss / test_total_batch, nn_loss / test_total_batch, bn_acc / test_total_batch, nn_acc / test_total_batch\n",
    "\n",
    "        # Save valid losses/acc\n",
    "        valid_losses.append([bn_loss, nn_loss])\n",
    "        valid_accs.append([bn_acc, nn_acc])\n",
    "        print(\n",
    "            '[Epoch %d-VALID] Batchnorm Loss(Acc): bn_loss:%.5f(bn_acc:%.2f) vs No Batchnorm Loss(Acc): nn_loss:%.5f(nn_acc:%.2f)' % (\n",
    "                (epoch + 1), bn_loss.item(), bn_acc.item(), nn_loss.item(), nn_acc.item()))\n",
    "        print()\n",
    "\n",
    "print('Learning finished')"
   ]
  },
  {
   "cell_type": "code",
   "execution_count": 58,
   "metadata": {},
   "outputs": [
    {
     "data": {
      "image/png": "[encoded data removed]",
      "text/plain": [
       "<Figure size 1080x720 with 1 Axes>"
      ]
     },
     "metadata": {
      "needs_background": "light"
     },
     "output_type": "display_data"
    },
    {
     "data": {
      "image/png": "[encoded data removed]",
      "text/plain": [
       "<Figure size 1080x720 with 1 Axes>"
      ]
     },
     "metadata": {
      "needs_background": "light"
     },
     "output_type": "display_data"
    },
    {
     "data": {
      "image/png": "[encoded data removed]",
      "text/plain": [
       "<Figure size 1080x720 with 1 Axes>"
      ]
     },
     "metadata": {
      "needs_background": "light"
     },
     "output_type": "display_data"
    },
    {
     "data": {
      "image/png": "[encoded data removed]",
      "text/plain": [
       "<Figure size 1080x720 with 1 Axes>"
      ]
     },
     "metadata": {
      "needs_background": "light"
     },
     "output_type": "display_data"
    }
   ],
   "source": [
    "def plot_compare(loss_list: list, ylim=None, title=None) -> None:\n",
    "    bn = [i[0] for i in loss_list]\n",
    "    nn = [i[1] for i in loss_list]\n",
    "\n",
    "    plt.figure(figsize=(15, 10))\n",
    "    plt.plot(bn, label='With BN')\n",
    "    plt.plot(nn, label='Without BN')\n",
    "    if ylim:\n",
    "        plt.ylim(ylim)\n",
    "\n",
    "    if title:\n",
    "        plt.title(title)\n",
    "    plt.legend()\n",
    "    plt.grid('on')\n",
    "    plt.show()\n",
    "    \n",
    "plot_compare(train_losses, title='Training Loss at Epoch')\n",
    "plot_compare(train_accs, [0, 1.0], title='Training Acc at Epoch')\n",
    "plot_compare(valid_losses, title='Validation Loss at Epoch')\n",
    "plot_compare(valid_accs, [0, 1.0], title='Validation Acc at Epoch')"
   ]
  },
  {
   "cell_type": "code",
   "execution_count": null,
   "metadata": {},
   "outputs": [],
   "source": []
  }
 ],
 "metadata": {
  "kernelspec": {
   "display_name": "Python 3",
   "language": "python",
   "name": "python3"
  },
  "language_info": {
   "codemirror_mode": {
    "name": "ipython",
    "version": 3
   },
   "file_extension": ".py",
   "mimetype": "text/x-python",
   "name": "python",
   "nbconvert_exporter": "python",
   "pygments_lexer": "ipython3",
   "version": "3.7.6"
  }
 },
 "nbformat": 4,
 "nbformat_minor": 4
}
