{
 "cells": [
  {
   "cell_type": "code",
   "execution_count": 2,
   "metadata": {},
   "outputs": [],
   "source": [
    "import torch"
   ]
  },
  {
   "cell_type": "code",
   "execution_count": 7,
   "metadata": {},
   "outputs": [
    {
     "name": "stdout",
     "output_type": "stream",
     "text": [
      "Epoch    0/20 hypothesis: tensor([0., 0., 0., 0., 0.]) Cost: 29661.800781\n",
      "Epoch    1/20 hypothesis: tensor([67.2578, 80.8397, 79.6523, 86.7394, 61.6605]) Cost: 9298.520508\n",
      "Epoch    2/20 hypothesis: tensor([104.9128, 126.0990, 124.2466, 135.3015,  96.1821]) Cost: 2915.713135\n",
      "Epoch    3/20 hypothesis: tensor([125.9942, 151.4381, 149.2133, 162.4896, 115.5097]) Cost: 915.040527\n",
      "Epoch    4/20 hypothesis: tensor([137.7968, 165.6247, 163.1911, 177.7112, 126.3307]) Cost: 287.936005\n",
      "Epoch    5/20 hypothesis: tensor([144.4044, 173.5674, 171.0168, 186.2332, 132.3891]) Cost: 91.371017\n",
      "Epoch    6/20 hypothesis: tensor([148.1035, 178.0144, 175.3980, 191.0042, 135.7812]) Cost: 29.758139\n",
      "Epoch    7/20 hypothesis: tensor([150.1744, 180.5042, 177.8508, 193.6753, 137.6805]) Cost: 10.445305\n",
      "Epoch    8/20 hypothesis: tensor([151.3336, 181.8983, 179.2240, 195.1707, 138.7440]) Cost: 4.391228\n",
      "Epoch    9/20 hypothesis: tensor([151.9824, 182.6789, 179.9928, 196.0079, 139.3396]) Cost: 2.493135\n",
      "Epoch   10/20 hypothesis: tensor([152.3454, 183.1161, 180.4231, 196.4765, 139.6732]) Cost: 1.897688\n",
      "Epoch   11/20 hypothesis: tensor([152.5485, 183.3610, 180.6640, 196.7389, 139.8602]) Cost: 1.710541\n",
      "Epoch   12/20 hypothesis: tensor([152.6620, 183.4982, 180.7988, 196.8857, 139.9651]) Cost: 1.651413\n",
      "Epoch   13/20 hypothesis: tensor([152.7253, 183.5752, 180.8742, 196.9678, 140.0240]) Cost: 1.632387\n",
      "Epoch   14/20 hypothesis: tensor([152.7606, 183.6184, 180.9164, 197.0138, 140.0571]) Cost: 1.625923\n",
      "Epoch   15/20 hypothesis: tensor([152.7802, 183.6427, 180.9399, 197.0395, 140.0759]) Cost: 1.623412\n",
      "Epoch   16/20 hypothesis: tensor([152.7909, 183.6565, 180.9530, 197.0538, 140.0865]) Cost: 1.622141\n",
      "Epoch   17/20 hypothesis: tensor([152.7968, 183.6643, 180.9603, 197.0618, 140.0927]) Cost: 1.621253\n",
      "Epoch   18/20 hypothesis: tensor([152.7999, 183.6688, 180.9644, 197.0662, 140.0963]) Cost: 1.620500\n",
      "Epoch   19/20 hypothesis: tensor([152.8014, 183.6715, 180.9666, 197.0686, 140.0985]) Cost: 1.619770\n",
      "Epoch   20/20 hypothesis: tensor([152.8020, 183.6731, 180.9677, 197.0699, 140.1000]) Cost: 1.619033\n"
     ]
    }
   ],
   "source": [
    "#dataset 생성 3번의 쪽지시험 점수(x) 를 통한 최종시험(y) 점수 예측\n",
    "x_train = torch.FloatTensor([[73, 80, 75],\n",
    "                             [93, 88, 93],\n",
    "                             [89, 91, 90],\n",
    "                             [96, 98, 100],\n",
    "                             [73, 66, 70]])\n",
    "y_train = torch.FloatTensor([[152], [185], [180], [196], [142]])\n",
    "\n",
    "# Model 초기화\n",
    "W = torch.zeros((3, 1), requires_grad=True)\n",
    "b = torch.zeros(1, requires_grad=True)\n",
    "\n",
    "# Optimize 설정\n",
    "optimizer = torch.optim.SGD([W, b], lr=1e-5)\n",
    "\n",
    "nb_epochs = 20\n",
    "for epoch in range(nb_epochs + 1):\n",
    "    \n",
    "    #H(x) = w1x1 + w2x2 + ... + wnxn으로 갯수가 늘어남에 따라 term이 너무 길어진다. 따라서 torch 함수를 사용\n",
    "    hypothesis = x_train.matmul(W) + b # or .mm or @\n",
    "    \n",
    "    #Cost 계산\n",
    "    cost = torch.mean((hypothesis - y_train) ** 2)\n",
    "    \n",
    "    optimizer.zero_grad()\n",
    "    cost.backward()\n",
    "    optimizer.step()\n",
    "    \n",
    "    #squeeze()(unsqueeze()) 차원의 원소가 1인 차원을 제거. detach() 미분값을 계산하기 싫은 경우 사용 \n",
    "    print('Epoch {:4d}/{} hypothesis: {} Cost: {:.6f}'.format(\n",
    "        epoch, nb_epochs, hypothesis.squeeze().detach(), cost.item()))\n"
   ]
  },
  {
   "cell_type": "markdown",
   "metadata": {},
   "source": [
    "12회 이후로는 Cost값의 변화가 크게 줄어든다. "
   ]
  },
  {
   "cell_type": "markdown",
   "metadata": {},
   "source": [
    "* MultivariateLinearRegressionModel class에서 nn 모듈을 상속하고 nn을 쉽게 만들 수 있게 해준다.\n",
    "\n",
    "import torch.nn as nn\n",
    "\n",
    "class MultivariateLinearRegressionModel(nn.Module):\n",
    "    def __init__(self):\n",
    "        super().__init__()\n",
    "        self.linear = nn.Linear(3, 1)\n",
    "        \n",
    "    def forward(self, x):\n",
    "        return self.linear(x)\n",
    "        \n",
    "hypothesis = model(x_train)\n",
    "\n",
    "* torch에서 제공하는 cost function\n",
    "import torch.nn.functional as F\n",
    "mse_loss(prediection, y_train)\n"
   ]
  },
  {
   "cell_type": "markdown",
   "metadata": {},
   "source": [
    "torch에서 제공하는 library를 통해 code를 수정"
   ]
  },
  {
   "cell_type": "code",
   "execution_count": 15,
   "metadata": {},
   "outputs": [
    {
     "name": "stdout",
     "output_type": "stream",
     "text": [
      "Epoch    0/20 hypothesis: tensor([ 81.6830,  97.8960,  96.5998, 104.7510,  75.0549]) Cost: 6459.039551\n",
      "Epoch    1/20 hypothesis: tensor([113.0657, 135.6164, 133.7659, 145.2241, 103.8263]) Cost: 2025.528076\n",
      "Epoch    2/20 hypothesis: tensor([130.6355, 156.7348, 154.5738, 167.8834, 119.9345]) Cost: 635.857361\n",
      "Epoch    3/20 hypothesis: tensor([140.4720, 168.5584, 166.2233, 180.5695, 128.9530]) Cost: 200.268967\n",
      "Epoch    4/20 hypothesis: tensor([145.9789, 175.1781, 172.7454, 187.6719, 134.0023]) Cost: 63.734734\n",
      "Epoch    5/20 hypothesis: tensor([149.0618, 178.8843, 176.3969, 191.6482, 136.8295]) Cost: 20.937912\n",
      "Epoch    6/20 hypothesis: tensor([150.7876, 180.9594, 178.4411, 193.8744, 138.4124]) Cost: 7.523036\n",
      "Epoch    7/20 hypothesis: tensor([151.7537, 182.1213, 179.5855, 195.1207, 139.2988]) Cost: 3.317770\n",
      "Epoch    8/20 hypothesis: tensor([152.2944, 182.7720, 180.2262, 195.8184, 139.7953]) Cost: 1.999129\n",
      "Epoch    9/20 hypothesis: tensor([152.5969, 183.1364, 180.5848, 196.2090, 140.0734]) Cost: 1.585360\n",
      "Epoch   10/20 hypothesis: tensor([152.7660, 183.3405, 180.7855, 196.4276, 140.2292]) Cost: 1.455217\n",
      "Epoch   11/20 hypothesis: tensor([152.8606, 183.4550, 180.8979, 196.5500, 140.3167]) Cost: 1.413974\n",
      "Epoch   12/20 hypothesis: tensor([152.9133, 183.5191, 180.9607, 196.6184, 140.3658]) Cost: 1.400591\n",
      "Epoch   13/20 hypothesis: tensor([152.9426, 183.5552, 180.9958, 196.6567, 140.3935]) Cost: 1.395943\n",
      "Epoch   14/20 hypothesis: tensor([152.9589, 183.5755, 181.0154, 196.6781, 140.4092]) Cost: 1.394044\n",
      "Epoch   15/20 hypothesis: tensor([152.9678, 183.5870, 181.0264, 196.6900, 140.4181]) Cost: 1.392994\n",
      "Epoch   16/20 hypothesis: tensor([152.9726, 183.5936, 181.0324, 196.6966, 140.4233]) Cost: 1.392205\n",
      "Epoch   17/20 hypothesis: tensor([152.9751, 183.5974, 181.0357, 196.7003, 140.4264]) Cost: 1.391511\n",
      "Epoch   18/20 hypothesis: tensor([152.9763, 183.5997, 181.0376, 196.7023, 140.4283]) Cost: 1.390852\n",
      "Epoch   19/20 hypothesis: tensor([152.9768, 183.6011, 181.0385, 196.7034, 140.4295]) Cost: 1.390184\n",
      "Epoch   20/20 hypothesis: tensor([152.9769, 183.6020, 181.0390, 196.7040, 140.4303]) Cost: 1.389534\n"
     ]
    }
   ],
   "source": [
    "#library import\n",
    "import torch.nn as nn\n",
    "import torch.nn.functional as F\n",
    "\n",
    "class LinearRegressionModel(nn.Module):\n",
    "    def __init__(self):\n",
    "        super().__init__()\n",
    "        self.linear = nn.Linear(1, 1)\n",
    "        \n",
    "    def forward(self, x):\n",
    "        return self.linear(x)\n",
    "\n",
    "class MultivariateLinearRegressionModel(nn.Module):\n",
    "    def __init__(self):\n",
    "        super().__init__()\n",
    "        self.linear = nn.Linear(3, 1)\n",
    "        \n",
    "    def forward(self, x):\n",
    "        return self.linear(x)\n",
    "\n",
    "\n",
    "#dataset 생성 3번의 쪽지시험 점수(x) 를 통한 최종시험(y) 점수 예측\n",
    "x_train = torch.FloatTensor([[73, 80, 75], [93, 88, 93], [89, 91, 90], [96, 98, 100], [73, 66, 70]])\n",
    "y_train = torch.FloatTensor([[152], [185], [180], [196], [142]])\n",
    "\n",
    "# Model 초기화\n",
    "#W = torch.zeros((3, 1), requires_grad=True)\n",
    "#b = torch.zeros(1, requires_grad=True)\n",
    "model = MultivariateLinearRegressionModel()\n",
    "\n",
    "# Optimize 설정\n",
    "#optimizer = torch.optim.SGD([W, b], lr=1e-5)\n",
    "#W, b 대신 model에 MLRM class를 사용했으므로 해당 parameter를 불러오는 함수를 입력한다.\n",
    "optimizer = torch.optim.SGD(model.parameters(), lr=1e-5)\n",
    "\n",
    "nb_epochs = 20\n",
    "for epoch in range(nb_epochs + 1):\n",
    "    \n",
    "    #H(x) = w1x1 + w2x2 + ... + wnxn으로 갯수가 늘어남에 따라 term이 너무 길어진다. 따라서 torch 함수를 사용\n",
    "    #hypothesis = x_train.matmul(W) + b # or .mm or @\n",
    "    prediction = model(x_train)\n",
    "    \n",
    "    #Cost 계산\n",
    "    #cost = torch.mean((hypothesis - y_train) ** 2)\n",
    "    cost = F.mse_loss(prediction, y_train)\n",
    "    \n",
    "    optimizer.zero_grad()\n",
    "    cost.backward()\n",
    "    optimizer.step()\n",
    "    \n",
    "    print('Epoch {:4d}/{} hypothesis: {} Cost: {:.6f}'.format(\n",
    "        epoch, nb_epochs, prediction.squeeze().detach(), cost.item()))"
   ]
  },
  {
   "cell_type": "code",
   "execution_count": null,
   "metadata": {},
   "outputs": [],
   "source": []
  }
 ],
 "metadata": {
  "kernelspec": {
   "display_name": "Python 3",
   "language": "python",
   "name": "python3"
  },
  "language_info": {
   "codemirror_mode": {
    "name": "ipython",
    "version": 3
   },
   "file_extension": ".py",
   "mimetype": "text/x-python",
   "name": "python",
   "nbconvert_exporter": "python",
   "pygments_lexer": "ipython3",
   "version": "3.7.6"
  }
 },
 "nbformat": 4,
 "nbformat_minor": 4
}
