{
 "cells": [
  {
   "cell_type": "markdown",
   "metadata": {},
   "source": [
    "# Multivariate Linear Regression"
   ]
  },
  {
   "cell_type": "markdown",
   "metadata": {},
   "source": [
    "### Theoretical Overview<br>\n",
    "$$ H(x_1, x_2, x_3) = x_1w_1 + x_2w_2 + x_3w_3 + b $$\n",
    "$$ cost(W, b) = \\frac{1}{m} \\sum^m_{i=1} \\left( H(x^{(i)}) - y^{(i)} \\right)^2 $$<br>\n",
    "$H(x)$: 주어진 $x$ 값에 대해 예측을 어떻게 할 것인가<br>\n",
    "$cost(W, b)$: $H(x)$ 가 $y$ 를 얼마나 잘 예측했는가"
   ]
  },
  {
   "cell_type": "markdown",
   "metadata": {},
   "source": [
    "### Imports"
   ]
  },
  {
   "cell_type": "code",
   "execution_count": 8,
   "metadata": {},
   "outputs": [],
   "source": [
    "import torch"
   ]
  },
  {
   "cell_type": "markdown",
   "metadata": {},
   "source": [
    "### Data"
   ]
  },
  {
   "cell_type": "code",
   "execution_count": 10,
   "metadata": {},
   "outputs": [],
   "source": [
    "#실습을 위해 Naive한 Matrix 형태의 Data 이용\n",
    "#dataset 생성 3번의 쪽지시험 점수(x) 를 통한 최종시험(y) 점수 예측\n",
    "x_train = torch.FloatTensor([[73, 80, 75],\n",
    "                             [93, 88, 93],\n",
    "                             [89, 91, 90],\n",
    "                             [96, 98, 100],\n",
    "                             [73, 66, 70]])\n",
    "y_train = torch.FloatTensor([[152], [185], [180], [196], [142]])"
   ]
  },
  {
   "cell_type": "markdown",
   "metadata": {},
   "source": [
    "### Training"
   ]
  },
  {
   "cell_type": "code",
   "execution_count": 11,
   "metadata": {},
   "outputs": [
    {
     "name": "stdout",
     "output_type": "stream",
     "text": [
      "Epoch    0/20 hypothesis: tensor([0., 0., 0., 0., 0.]) Cost: 29661.800781\n",
      "Epoch    1/20 hypothesis: tensor([67.2578, 80.8397, 79.6523, 86.7394, 61.6605]) Cost: 9298.520508\n",
      "Epoch    2/20 hypothesis: tensor([104.9128, 126.0990, 124.2466, 135.3015,  96.1821]) Cost: 2915.713135\n",
      "Epoch    3/20 hypothesis: tensor([125.9942, 151.4381, 149.2133, 162.4896, 115.5097]) Cost: 915.040527\n",
      "Epoch    4/20 hypothesis: tensor([137.7968, 165.6247, 163.1911, 177.7112, 126.3307]) Cost: 287.936005\n",
      "Epoch    5/20 hypothesis: tensor([144.4044, 173.5674, 171.0168, 186.2332, 132.3891]) Cost: 91.371017\n",
      "Epoch    6/20 hypothesis: tensor([148.1035, 178.0144, 175.3980, 191.0042, 135.7812]) Cost: 29.758139\n",
      "Epoch    7/20 hypothesis: tensor([150.1744, 180.5042, 177.8508, 193.6753, 137.6805]) Cost: 10.445305\n",
      "Epoch    8/20 hypothesis: tensor([151.3336, 181.8983, 179.2240, 195.1707, 138.7440]) Cost: 4.391228\n",
      "Epoch    9/20 hypothesis: tensor([151.9824, 182.6789, 179.9928, 196.0079, 139.3396]) Cost: 2.493135\n",
      "Epoch   10/20 hypothesis: tensor([152.3454, 183.1161, 180.4231, 196.4765, 139.6732]) Cost: 1.897688\n",
      "Epoch   11/20 hypothesis: tensor([152.5485, 183.3610, 180.6640, 196.7389, 139.8602]) Cost: 1.710541\n",
      "Epoch   12/20 hypothesis: tensor([152.6620, 183.4982, 180.7988, 196.8857, 139.9651]) Cost: 1.651413\n",
      "Epoch   13/20 hypothesis: tensor([152.7253, 183.5752, 180.8742, 196.9678, 140.0240]) Cost: 1.632387\n",
      "Epoch   14/20 hypothesis: tensor([152.7606, 183.6184, 180.9164, 197.0138, 140.0571]) Cost: 1.625923\n",
      "Epoch   15/20 hypothesis: tensor([152.7802, 183.6427, 180.9399, 197.0395, 140.0759]) Cost: 1.623412\n",
      "Epoch   16/20 hypothesis: tensor([152.7909, 183.6565, 180.9530, 197.0538, 140.0865]) Cost: 1.622141\n",
      "Epoch   17/20 hypothesis: tensor([152.7968, 183.6643, 180.9603, 197.0618, 140.0927]) Cost: 1.621253\n",
      "Epoch   18/20 hypothesis: tensor([152.7999, 183.6688, 180.9644, 197.0662, 140.0963]) Cost: 1.620500\n",
      "Epoch   19/20 hypothesis: tensor([152.8014, 183.6715, 180.9666, 197.0686, 140.0985]) Cost: 1.619770\n",
      "Epoch   20/20 hypothesis: tensor([152.8020, 183.6731, 180.9677, 197.0699, 140.1000]) Cost: 1.619033\n"
     ]
    }
   ],
   "source": [
    "# Model 초기화\n",
    "W = torch.zeros((3, 1), requires_grad=True)\n",
    "b = torch.zeros(1, requires_grad=True)\n",
    "\n",
    "# Optimize 설정\n",
    "optimizer = torch.optim.SGD([W, b], lr=1e-5)\n",
    "\n",
    "nb_epochs = 20\n",
    "for epoch in range(nb_epochs + 1):\n",
    "    \n",
    "    #H(x) = w1x1 + w2x2 + ... + wnxn으로 갯수가 늘어남에 따라 term이 너무 길어진다. 따라서 torch 함수를 사용\n",
    "    hypothesis = x_train.matmul(W) + b # or .mm or @\n",
    "    \n",
    "    #Cost 계산\n",
    "    cost = torch.mean((hypothesis - y_train) ** 2)\n",
    "    \n",
    "    optimizer.zero_grad()\n",
    "    cost.backward()\n",
    "    optimizer.step()\n",
    "    \n",
    "    #squeeze()(unsqueeze()) 차원의 원소가 1인 차원을 제거. detach() 미분값을 계산하기 싫은 경우 사용 \n",
    "    print('Epoch {:4d}/{} hypothesis: {} Cost: {:.6f}'.format(\n",
    "        epoch, nb_epochs, hypothesis.squeeze().detach(), cost.item()))\n"
   ]
  },
  {
   "cell_type": "markdown",
   "metadata": {},
   "source": [
    "12회 이후로는 Cost값의 변화가 크게 줄어든다. "
   ]
  },
  {
   "cell_type": "markdown",
   "metadata": {},
   "source": [
    "* MultivariateLinearRegressionModel class에서 nn 모듈을 상속하고 nn을 쉽게 만들 수 있게 해준다.\n",
    "\n",
    "import torch.nn as nn\n",
    "\n",
    "class MultivariateLinearRegressionModel(nn.Module):\n",
    "    def __init__(self):\n",
    "        super().__init__()\n",
    "        self.linear = nn.Linear(3, 1)\n",
    "        \n",
    "    def forward(self, x):\n",
    "        return self.linear(x)\n",
    "        \n",
    "hypothesis = model(x_train)\n",
    "\n",
    "* torch에서 제공하는 cost function\n",
    "import torch.nn.functional as F\n",
    "mse_loss(prediection, y_train)\n"
   ]
  },
  {
   "cell_type": "markdown",
   "metadata": {},
   "source": [
    "torch에서 제공하는 library를 통해 code를 수정"
   ]
  },
  {
   "cell_type": "markdown",
   "metadata": {},
   "source": [
    "### High-level Implementation with nn.Module"
   ]
  },
  {
   "cell_type": "markdown",
   "metadata": {},
   "source": [
    "### Imports"
   ]
  },
  {
   "cell_type": "code",
   "execution_count": 5,
   "metadata": {},
   "outputs": [],
   "source": [
    "import torch.nn as nn\n",
    "import torch.nn.functional as F"
   ]
  },
  {
   "cell_type": "markdown",
   "metadata": {},
   "source": [
    "### Class 생성"
   ]
  },
  {
   "cell_type": "code",
   "execution_count": 6,
   "metadata": {},
   "outputs": [],
   "source": [
    "class MultivariateLinearRegressionModel(nn.Module):\n",
    "    def __init__(self):\n",
    "        super().__init__()\n",
    "        self.linear = nn.Linear(3, 1)\n",
    "        \n",
    "    def forward(self, x):\n",
    "        return self.linear(x)"
   ]
  },
  {
   "cell_type": "markdown",
   "metadata": {},
   "source": [
    "### Training"
   ]
  },
  {
   "cell_type": "code",
   "execution_count": 9,
   "metadata": {},
   "outputs": [
    {
     "name": "stdout",
     "output_type": "stream",
     "text": [
      "Epoch    0/20 hypothesis: tensor([70.2414, 88.5342, 85.1069, 93.4358, 67.8106]) Cost: 8203.661133\n",
      "Epoch    1/20 hypothesis: tensor([105.6122, 131.0472, 126.9957, 139.0516, 100.2372]) Cost: 2571.887939\n",
      "Epoch    2/20 hypothesis: tensor([125.4151, 154.8486, 150.4477, 164.5902, 118.3917]) Cost: 806.625305\n",
      "Epoch    3/20 hypothesis: tensor([136.5020, 168.1741, 163.5777, 178.8884, 128.5557]) Cost: 253.309662\n",
      "Epoch    4/20 hypothesis: tensor([142.7093, 175.6345, 170.9286, 186.8933, 134.2461]) Cost: 79.874825\n",
      "Epoch    5/20 hypothesis: tensor([146.1845, 179.8113, 175.0442, 191.3751, 137.4320]) Cost: 25.511887\n",
      "Epoch    6/20 hypothesis: tensor([148.1302, 182.1497, 177.3484, 193.8842, 139.2156]) Cost: 8.472000\n",
      "Epoch    7/20 hypothesis: tensor([149.2195, 183.4589, 178.6384, 195.2889, 140.2141]) Cost: 3.130989\n",
      "Epoch    8/20 hypothesis: tensor([149.8295, 184.1918, 179.3607, 196.0754, 140.7732]) Cost: 1.456769\n",
      "Epoch    9/20 hypothesis: tensor([150.1710, 184.6021, 179.7650, 196.5157, 141.0861]) Cost: 0.931989\n",
      "Epoch   10/20 hypothesis: tensor([150.3622, 184.8318, 179.9914, 196.7623, 141.2613]) Cost: 0.767451\n",
      "Epoch   11/20 hypothesis: tensor([150.4693, 184.9604, 180.1182, 196.9003, 141.3594]) Cost: 0.715857\n",
      "Epoch   12/20 hypothesis: tensor([150.5293, 185.0323, 180.1892, 196.9775, 141.4143]) Cost: 0.699657\n",
      "Epoch   13/20 hypothesis: tensor([150.5630, 185.0726, 180.2290, 197.0208, 141.4450]) Cost: 0.694526\n",
      "Epoch   14/20 hypothesis: tensor([150.5819, 185.0951, 180.2512, 197.0450, 141.4621]) Cost: 0.692906\n",
      "Epoch   15/20 hypothesis: tensor([150.5925, 185.1077, 180.2637, 197.0585, 141.4717]) Cost: 0.692364\n",
      "Epoch   16/20 hypothesis: tensor([150.5984, 185.1147, 180.2707, 197.0661, 141.4771]) Cost: 0.692170\n",
      "Epoch   17/20 hypothesis: tensor([150.6018, 185.1186, 180.2747, 197.0703, 141.4800]) Cost: 0.692073\n",
      "Epoch   18/20 hypothesis: tensor([150.6038, 185.1208, 180.2769, 197.0727, 141.4817]) Cost: 0.692009\n",
      "Epoch   19/20 hypothesis: tensor([150.6049, 185.1219, 180.2781, 197.0740, 141.4826]) Cost: 0.691952\n",
      "Epoch   20/20 hypothesis: tensor([150.6056, 185.1226, 180.2789, 197.0748, 141.4830]) Cost: 0.691919\n"
     ]
    }
   ],
   "source": [
    "#dataset 생성 3번의 쪽지시험 점수(x) 를 통한 최종시험(y) 점수 예측\n",
    "x_train = torch.FloatTensor([[73, 80, 75], [93, 88, 93], [89, 91, 90], [96, 98, 100], [73, 66, 70]])\n",
    "y_train = torch.FloatTensor([[152], [185], [180], [196], [142]])\n",
    "\n",
    "# Model 초기화\n",
    "#W = torch.zeros((3, 1), requires_grad=True)\n",
    "#b = torch.zeros(1, requires_grad=True)\n",
    "model = MultivariateLinearRegressionModel()\n",
    "\n",
    "# Optimize 설정\n",
    "#optimizer = torch.optim.SGD([W, b], lr=1e-5)\n",
    "#W, b 대신 model에 MLRM class를 사용했으므로 해당 parameter를 불러오는 함수를 입력한다.\n",
    "optimizer = torch.optim.SGD(model.parameters(), lr=1e-5)\n",
    "\n",
    "nb_epochs = 20\n",
    "for epoch in range(nb_epochs + 1):\n",
    "    \n",
    "    #H(x) = w1x1 + w2x2 + ... + wnxn으로 갯수가 늘어남에 따라 term이 너무 길어진다. 따라서 torch 함수를 사용\n",
    "    #hypothesis = x_train.matmul(W) + b # or .mm or @\n",
    "    prediction = model(x_train)\n",
    "    \n",
    "    #Cost 계산\n",
    "    #cost = torch.mean((hypothesis - y_train) ** 2)\n",
    "    cost = F.mse_loss(prediction, y_train)\n",
    "    \n",
    "    optimizer.zero_grad()\n",
    "    cost.backward()\n",
    "    optimizer.step()\n",
    "    \n",
    "    print('Epoch {:4d}/{} hypothesis: {} Cost: {:.6f}'.format(\n",
    "        epoch, nb_epochs, prediction.squeeze().detach(), cost.item()))"
   ]
  },
  {
   "cell_type": "code",
   "execution_count": null,
   "metadata": {},
   "outputs": [],
   "source": []
  }
 ],
 "metadata": {
  "kernelspec": {
   "display_name": "Python 3",
   "language": "python",
   "name": "python3"
  },
  "language_info": {
   "codemirror_mode": {
    "name": "ipython",
    "version": 3
   },
   "file_extension": ".py",
   "mimetype": "text/x-python",
   "name": "python",
   "nbconvert_exporter": "python",
   "pygments_lexer": "ipython3",
   "version": "3.7.6"
  }
 },
 "nbformat": 4,
 "nbformat_minor": 4
}
